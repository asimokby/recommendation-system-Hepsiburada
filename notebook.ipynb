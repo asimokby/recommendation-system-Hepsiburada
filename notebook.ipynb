{
 "cells": [
  {
   "cell_type": "markdown",
   "metadata": {},
   "source": [
    "#  Hepsiburada Recommendation Team Data Scientist Assignment\n",
    "\n",
    "\n",
    "\n",
    "**Task** : Recommending to the customers products similar to the ones in their carts."
   ]
  },
  {
   "cell_type": "markdown",
   "metadata": {},
   "source": [
    "Importing necessary libraries. "
   ]
  },
  {
   "cell_type": "code",
   "execution_count": 1,
   "metadata": {},
   "outputs": [
    {
     "name": "stderr",
     "output_type": "stream",
     "text": [
      "/Library/Frameworks/Python.framework/Versions/3.7/lib/python3.7/site-packages/gensim/similarities/__init__.py:15: UserWarning: The gensim.similarities.levenshtein submodule is disabled, because the optional Levenshtein package <https://pypi.org/project/python-Levenshtein/> is unavailable. Install Levenhstein (e.g. `pip install python-Levenshtein`) to suppress this warning.\n",
      "  warnings.warn(msg)\n"
     ]
    }
   ],
   "source": [
    "import pandas as pd\n",
    "import json\n",
    "import string\n",
    "from sklearn.metrics.pairwise import cosine_similarity\n",
    "from sklearn.feature_extraction.text import CountVectorizer\n",
    "from gensim.models.doc2vec import Doc2Vec, TaggedDocument"
   ]
  },
  {
   "cell_type": "markdown",
   "metadata": {},
   "source": [
    "## Getting The Data\n",
    "\n",
    "There are two files: \n",
    "\n",
    "- **Events.json:** contains events of type 'cart', adding a product to the cart.\n",
    "- **Meta.json:** contains info about the products. "
   ]
  },
  {
   "cell_type": "code",
   "execution_count": 2,
   "metadata": {},
   "outputs": [],
   "source": [
    "def read_json_to_df(file_path, json_key):\n",
    "    \"\"\" Returns a dataframe given the path of a json file and the key of the json object \"\"\"\n",
    "    \n",
    "    with open(file_path) as f:\n",
    "        data_json = json.load(f)\n",
    "    return pd.DataFrame.from_dict(data_json[json_key], orient='columns')"
   ]
  },
  {
   "cell_type": "code",
   "execution_count": 3,
   "metadata": {},
   "outputs": [],
   "source": [
    "events_file_path, meta_file_path = 'data/events.json', 'data/meta.json'\n",
    "\n",
    "events = read_json_to_df(events_file_path, 'events')\n",
    "meta = read_json_to_df(meta_file_path, 'meta')"
   ]
  },
  {
   "cell_type": "code",
   "execution_count": 63,
   "metadata": {},
   "outputs": [
    {
     "data": {
      "text/plain": [
       "((387650, 5), (10235, 5))"
      ]
     },
     "execution_count": 63,
     "metadata": {},
     "output_type": "execute_result"
    }
   ],
   "source": [
    "events.shape, meta.shape"
   ]
  },
  {
   "cell_type": "markdown",
   "metadata": {},
   "source": [
    "Pickling the **meta** dataframe to use it on the server."
   ]
  },
  {
   "cell_type": "code",
   "execution_count": 6,
   "metadata": {},
   "outputs": [],
   "source": [
    "meta.to_pickle('pickled_dfs/meta.pkl')"
   ]
  },
  {
   "cell_type": "markdown",
   "metadata": {},
   "source": [
    "## Data Discovery"
   ]
  },
  {
   "cell_type": "markdown",
   "metadata": {},
   "source": [
    "After a **quick glance** at the data, the following is noted:\n",
    "\n",
    "- The features of the products are text, hence, a NLP technique may be of use.\n",
    "- There seems to be a category which its value is written in English. 'Pet Shop'\n",
    "- The data might need to be merged at some point on the productid feature if needed.\n",
    "- The \"brand\" name seems to be stated again in the \"name\" column. "
   ]
  },
  {
   "cell_type": "code",
   "execution_count": 7,
   "metadata": {},
   "outputs": [
    {
     "data": {
      "text/html": [
       "<div>\n",
       "<style scoped>\n",
       "    .dataframe tbody tr th:only-of-type {\n",
       "        vertical-align: middle;\n",
       "    }\n",
       "\n",
       "    .dataframe tbody tr th {\n",
       "        vertical-align: top;\n",
       "    }\n",
       "\n",
       "    .dataframe thead th {\n",
       "        text-align: right;\n",
       "    }\n",
       "</style>\n",
       "<table border=\"1\" class=\"dataframe\">\n",
       "  <thead>\n",
       "    <tr style=\"text-align: right;\">\n",
       "      <th></th>\n",
       "      <th>event</th>\n",
       "      <th>sessionid</th>\n",
       "      <th>eventtime</th>\n",
       "      <th>price</th>\n",
       "      <th>productid</th>\n",
       "    </tr>\n",
       "  </thead>\n",
       "  <tbody>\n",
       "    <tr>\n",
       "      <th>0</th>\n",
       "      <td>cart</td>\n",
       "      <td>a0655eee-1267-4820-af21-ad8ac068ff7a</td>\n",
       "      <td>2020-06-01T08:59:16.406Z</td>\n",
       "      <td>14.48</td>\n",
       "      <td>HBV00000NVZE8</td>\n",
       "    </tr>\n",
       "    <tr>\n",
       "      <th>1</th>\n",
       "      <td>cart</td>\n",
       "      <td>d2ea7bd3-9235-4a9f-a9ea-d7f296e71318</td>\n",
       "      <td>2020-06-01T08:59:46.580Z</td>\n",
       "      <td>49.90</td>\n",
       "      <td>HBV00000U2B18</td>\n",
       "    </tr>\n",
       "    <tr>\n",
       "      <th>2</th>\n",
       "      <td>cart</td>\n",
       "      <td>5e594788-78a0-44dd-8e66-37022d48f691</td>\n",
       "      <td>2020-06-01T08:59:33.308Z</td>\n",
       "      <td>1.99</td>\n",
       "      <td>OFIS3101-080</td>\n",
       "    </tr>\n",
       "    <tr>\n",
       "      <th>3</th>\n",
       "      <td>cart</td>\n",
       "      <td>fdfeb652-22fa-4153-b9b5-4dfa0dcaffdf</td>\n",
       "      <td>2020-06-01T08:59:31.911Z</td>\n",
       "      <td>2.25</td>\n",
       "      <td>HBV00000NVZBW</td>\n",
       "    </tr>\n",
       "    <tr>\n",
       "      <th>4</th>\n",
       "      <td>cart</td>\n",
       "      <td>9e9d4f7e-898c-40fb-aae9-256c40779933</td>\n",
       "      <td>2020-06-01T08:59:33.888Z</td>\n",
       "      <td>9.95</td>\n",
       "      <td>HBV00000NE0T4</td>\n",
       "    </tr>\n",
       "  </tbody>\n",
       "</table>\n",
       "</div>"
      ],
      "text/plain": [
       "  event                             sessionid                 eventtime  \\\n",
       "0  cart  a0655eee-1267-4820-af21-ad8ac068ff7a  2020-06-01T08:59:16.406Z   \n",
       "1  cart  d2ea7bd3-9235-4a9f-a9ea-d7f296e71318  2020-06-01T08:59:46.580Z   \n",
       "2  cart  5e594788-78a0-44dd-8e66-37022d48f691  2020-06-01T08:59:33.308Z   \n",
       "3  cart  fdfeb652-22fa-4153-b9b5-4dfa0dcaffdf  2020-06-01T08:59:31.911Z   \n",
       "4  cart  9e9d4f7e-898c-40fb-aae9-256c40779933  2020-06-01T08:59:33.888Z   \n",
       "\n",
       "   price      productid  \n",
       "0  14.48  HBV00000NVZE8  \n",
       "1  49.90  HBV00000U2B18  \n",
       "2   1.99   OFIS3101-080  \n",
       "3   2.25  HBV00000NVZBW  \n",
       "4   9.95  HBV00000NE0T4  "
      ]
     },
     "execution_count": 7,
     "metadata": {},
     "output_type": "execute_result"
    }
   ],
   "source": [
    "events.head()"
   ]
  },
  {
   "cell_type": "code",
   "execution_count": 8,
   "metadata": {
    "scrolled": false
   },
   "outputs": [
    {
     "data": {
      "text/html": [
       "<div>\n",
       "<style scoped>\n",
       "    .dataframe tbody tr th:only-of-type {\n",
       "        vertical-align: middle;\n",
       "    }\n",
       "\n",
       "    .dataframe tbody tr th {\n",
       "        vertical-align: top;\n",
       "    }\n",
       "\n",
       "    .dataframe thead th {\n",
       "        text-align: right;\n",
       "    }\n",
       "</style>\n",
       "<table border=\"1\" class=\"dataframe\">\n",
       "  <thead>\n",
       "    <tr style=\"text-align: right;\">\n",
       "      <th></th>\n",
       "      <th>productid</th>\n",
       "      <th>brand</th>\n",
       "      <th>category</th>\n",
       "      <th>subcategory</th>\n",
       "      <th>name</th>\n",
       "    </tr>\n",
       "  </thead>\n",
       "  <tbody>\n",
       "    <tr>\n",
       "      <th>0</th>\n",
       "      <td>HBV00000AX6LR</td>\n",
       "      <td>Palette</td>\n",
       "      <td>Kişisel Bakım</td>\n",
       "      <td>Saç Bakımı</td>\n",
       "      <td>Palette Kalıcı Doğal Renkler 10-4 PAPATYA</td>\n",
       "    </tr>\n",
       "    <tr>\n",
       "      <th>1</th>\n",
       "      <td>HBV00000BSAQG</td>\n",
       "      <td>Best</td>\n",
       "      <td>Pet Shop</td>\n",
       "      <td>Kedi</td>\n",
       "      <td>Best Pet Jöle İçinde Parça Etli Somonlu Konser...</td>\n",
       "    </tr>\n",
       "    <tr>\n",
       "      <th>2</th>\n",
       "      <td>HBV00000JUHBA</td>\n",
       "      <td>Tarım Kredi</td>\n",
       "      <td>Temel Gıda</td>\n",
       "      <td>Bakliyat, Pirinç, Makarna</td>\n",
       "      <td>Türkiye Tarım Kredi Koop.Yeşil Mercimek 1 kg</td>\n",
       "    </tr>\n",
       "    <tr>\n",
       "      <th>3</th>\n",
       "      <td>HBV00000NE0QI</td>\n",
       "      <td>Namet</td>\n",
       "      <td>Et, Balık, Şarküteri</td>\n",
       "      <td>Şarküteri</td>\n",
       "      <td>Namet Fıstıklı Macar Salam 100 gr</td>\n",
       "    </tr>\n",
       "    <tr>\n",
       "      <th>4</th>\n",
       "      <td>HBV00000NE0UQ</td>\n",
       "      <td>Muratbey</td>\n",
       "      <td>Kahvaltılık ve Süt</td>\n",
       "      <td>Peynir</td>\n",
       "      <td>Muratbey Burgu Peyniri 250 gr</td>\n",
       "    </tr>\n",
       "  </tbody>\n",
       "</table>\n",
       "</div>"
      ],
      "text/plain": [
       "       productid        brand              category  \\\n",
       "0  HBV00000AX6LR      Palette         Kişisel Bakım   \n",
       "1  HBV00000BSAQG         Best              Pet Shop   \n",
       "2  HBV00000JUHBA  Tarım Kredi            Temel Gıda   \n",
       "3  HBV00000NE0QI        Namet  Et, Balık, Şarküteri   \n",
       "4  HBV00000NE0UQ     Muratbey    Kahvaltılık ve Süt   \n",
       "\n",
       "                 subcategory  \\\n",
       "0                 Saç Bakımı   \n",
       "1                       Kedi   \n",
       "2  Bakliyat, Pirinç, Makarna   \n",
       "3                  Şarküteri   \n",
       "4                     Peynir   \n",
       "\n",
       "                                                name  \n",
       "0          Palette Kalıcı Doğal Renkler 10-4 PAPATYA  \n",
       "1  Best Pet Jöle İçinde Parça Etli Somonlu Konser...  \n",
       "2       Türkiye Tarım Kredi Koop.Yeşil Mercimek 1 kg  \n",
       "3                  Namet Fıstıklı Macar Salam 100 gr  \n",
       "4                      Muratbey Burgu Peyniri 250 gr  "
      ]
     },
     "execution_count": 8,
     "metadata": {},
     "output_type": "execute_result"
    }
   ],
   "source": [
    "meta.head()"
   ]
  },
  {
   "cell_type": "markdown",
   "metadata": {},
   "source": [
    "### Data Types\n",
    "\n",
    "As shown below, the type for all columns is **object**. The price column's dtype should rather be float. This column may be used in many ways. For instance, since customers like **whole numbers**, the price of the items that are recommended to the user may have a role in attracting the user if the price complements the price in the cart, making it a whole number."
   ]
  },
  {
   "cell_type": "code",
   "execution_count": 9,
   "metadata": {},
   "outputs": [
    {
     "data": {
      "text/plain": [
       "event        object\n",
       "sessionid    object\n",
       "eventtime    object\n",
       "price        object\n",
       "productid    object\n",
       "dtype: object"
      ]
     },
     "execution_count": 9,
     "metadata": {},
     "output_type": "execute_result"
    }
   ],
   "source": [
    "events.dtypes"
   ]
  },
  {
   "cell_type": "code",
   "execution_count": 10,
   "metadata": {},
   "outputs": [
    {
     "data": {
      "text/plain": [
       "productid      object\n",
       "brand          object\n",
       "category       object\n",
       "subcategory    object\n",
       "name           object\n",
       "dtype: object"
      ]
     },
     "execution_count": 10,
     "metadata": {},
     "output_type": "execute_result"
    }
   ],
   "source": [
    "meta.dtypes"
   ]
  },
  {
   "cell_type": "markdown",
   "metadata": {},
   "source": [
    "### Missing values\n",
    "\n",
    "There seem to be missing values that will need to be handled in some way. The following shows the number of null values in each column. "
   ]
  },
  {
   "cell_type": "code",
   "execution_count": 64,
   "metadata": {},
   "outputs": [],
   "source": [
    "def col_null_count(data):\n",
    "    \"\"\"counts the null values for each column\"\"\"\n",
    "    \n",
    "    for column in data.columns:\n",
    "        null_vals_num = data[column].isnull().values.sum()\n",
    "        print(f'{column}: {null_vals_num}')"
   ]
  },
  {
   "cell_type": "code",
   "execution_count": 12,
   "metadata": {},
   "outputs": [
    {
     "name": "stdout",
     "output_type": "stream",
     "text": [
      "event: 0\n",
      "sessionid: 0\n",
      "eventtime: 0\n",
      "price: 6\n",
      "productid: 6\n"
     ]
    }
   ],
   "source": [
    "col_null_count(events)"
   ]
  },
  {
   "cell_type": "code",
   "execution_count": 13,
   "metadata": {},
   "outputs": [
    {
     "name": "stdout",
     "output_type": "stream",
     "text": [
      "productid: 1\n",
      "brand: 459\n",
      "category: 1\n",
      "subcategory: 1\n",
      "name: 1\n"
     ]
    }
   ],
   "source": [
    "col_null_count(meta)"
   ]
  },
  {
   "cell_type": "code",
   "execution_count": 14,
   "metadata": {},
   "outputs": [
    {
     "data": {
      "text/html": [
       "<div>\n",
       "<style scoped>\n",
       "    .dataframe tbody tr th:only-of-type {\n",
       "        vertical-align: middle;\n",
       "    }\n",
       "\n",
       "    .dataframe tbody tr th {\n",
       "        vertical-align: top;\n",
       "    }\n",
       "\n",
       "    .dataframe thead th {\n",
       "        text-align: right;\n",
       "    }\n",
       "</style>\n",
       "<table border=\"1\" class=\"dataframe\">\n",
       "  <thead>\n",
       "    <tr style=\"text-align: right;\">\n",
       "      <th></th>\n",
       "      <th>productid</th>\n",
       "      <th>brand</th>\n",
       "      <th>category</th>\n",
       "      <th>subcategory</th>\n",
       "      <th>name</th>\n",
       "    </tr>\n",
       "  </thead>\n",
       "  <tbody>\n",
       "    <tr>\n",
       "      <th>5092</th>\n",
       "      <td>None</td>\n",
       "      <td>None</td>\n",
       "      <td>None</td>\n",
       "      <td>None</td>\n",
       "      <td>None</td>\n",
       "    </tr>\n",
       "  </tbody>\n",
       "</table>\n",
       "</div>"
      ],
      "text/plain": [
       "     productid brand category subcategory  name\n",
       "5092      None  None     None        None  None"
      ]
     },
     "execution_count": 14,
     "metadata": {},
     "output_type": "execute_result"
    }
   ],
   "source": [
    "meta.loc[(meta['productid'].isnull())]"
   ]
  },
  {
   "cell_type": "markdown",
   "metadata": {},
   "source": [
    "### Value Counts\n",
    "\n",
    "Looking at the value counts, some initial notes are: \n",
    "\n",
    "- Some users probably put similar products to their carts, hence, a user-based recommendation technique may be considered. \n",
    "- The categories and subcategories sets' size is small, hence, a content-based recommendation technique may be considered. "
   ]
  },
  {
   "cell_type": "code",
   "execution_count": 15,
   "metadata": {},
   "outputs": [
    {
     "data": {
      "text/plain": [
       "HBV00000NVZGU      17082\n",
       "HBV00000NVZBI       5557\n",
       "HBV00000OE7X7       5070\n",
       "HBV00000NVZBY       3824\n",
       "HBV00000O2S62       3704\n",
       "                   ...  \n",
       "ZYLINSALNDT006         1\n",
       "HBV00000U2BB3          1\n",
       "HBV00000BRUEP          1\n",
       "HBV00000QU3SM          1\n",
       "ZYECZACI9221098        1\n",
       "Name: productid, Length: 10235, dtype: int64"
      ]
     },
     "execution_count": 15,
     "metadata": {},
     "output_type": "execute_result"
    }
   ],
   "source": [
    "events['productid'].value_counts()"
   ]
  },
  {
   "cell_type": "code",
   "execution_count": 16,
   "metadata": {},
   "outputs": [
    {
     "data": {
      "text/plain": [
       "Atıştırmalık            1113\n",
       "Ev Bakım ve Temizlik    1106\n",
       "Kişisel Bakım           1059\n",
       "Kahvaltılık ve Süt       974\n",
       "Temel Gıda               961\n",
       "İçecekler                890\n",
       "Sağlık ve Kozmetik       862\n",
       "Bebek                    508\n",
       "Oyuncak ve Kırtasiye     407\n",
       "Et, Balık, Şarküteri     382\n",
       "Ev Yaşam ve Bahçe        371\n",
       "Tatlı                    363\n",
       "Pet Shop                 275\n",
       "Pratik Yemekler          217\n",
       "Meyve ve Sebze           185\n",
       "Fırın                    182\n",
       "Dondurma                 128\n",
       "Organik ve Diyet         105\n",
       "Spor, Outdoor ve Oto      88\n",
       "Su                        59\n",
       "Name: category, dtype: int64"
      ]
     },
     "execution_count": 16,
     "metadata": {},
     "output_type": "execute_result"
    }
   ],
   "source": [
    "meta['category'].value_counts()"
   ]
  },
  {
   "cell_type": "code",
   "execution_count": 17,
   "metadata": {},
   "outputs": [
    {
     "data": {
      "text/plain": [
       "Saç Bakımı                    556\n",
       "Çikolata, Gofret ve Barlar    377\n",
       "Bisküvi ve Kekler             359\n",
       "Çamaşır Yıkama                286\n",
       "Duş Jelleri ve Sabunlar       276\n",
       "                             ... \n",
       "Poşet                           1\n",
       "Tatlandırıcılar                 1\n",
       "Kaykay ve Paten                 1\n",
       "Dart                            1\n",
       "Ev Tekstili                     1\n",
       "Name: subcategory, Length: 132, dtype: int64"
      ]
     },
     "execution_count": 17,
     "metadata": {},
     "output_type": "execute_result"
    }
   ],
   "source": [
    "meta['subcategory'].value_counts()"
   ]
  },
  {
   "cell_type": "markdown",
   "metadata": {},
   "source": [
    "## Data Processing"
   ]
  },
  {
   "cell_type": "markdown",
   "metadata": {},
   "source": [
    "### Handling Missing Values\n",
    "\n",
    "Missing values could be handled in many ways such as deleting the rows with missing values or imputing techniques. As seen earlier, the number of rows with missing values in the events datasets is small. \n",
    "\n",
    "Therefore, deleting those rows would be a way to handle the missing values. This is done in the following cells for the **events** dataset.  "
   ]
  },
  {
   "cell_type": "code",
   "execution_count": 18,
   "metadata": {},
   "outputs": [],
   "source": [
    "events.dropna(inplace=True)\n",
    "events.reset_index(drop=True, inplace=True)"
   ]
  },
  {
   "cell_type": "code",
   "execution_count": 19,
   "metadata": {
    "scrolled": true
   },
   "outputs": [
    {
     "name": "stdout",
     "output_type": "stream",
     "text": [
      "event: 0\n",
      "sessionid: 0\n",
      "eventtime: 0\n",
      "price: 0\n",
      "productid: 0\n"
     ]
    }
   ],
   "source": [
    "col_null_count(events)"
   ]
  },
  {
   "cell_type": "markdown",
   "metadata": {},
   "source": [
    "For **meta** dataset, the column **brand**, which has the most nan values, won't be used (since the brand is already stated again in the **name** column). Therefore, only a signle row will be removed where all values are nan. "
   ]
  },
  {
   "cell_type": "code",
   "execution_count": 20,
   "metadata": {
    "scrolled": true
   },
   "outputs": [
    {
     "data": {
      "text/html": [
       "<div>\n",
       "<style scoped>\n",
       "    .dataframe tbody tr th:only-of-type {\n",
       "        vertical-align: middle;\n",
       "    }\n",
       "\n",
       "    .dataframe tbody tr th {\n",
       "        vertical-align: top;\n",
       "    }\n",
       "\n",
       "    .dataframe thead th {\n",
       "        text-align: right;\n",
       "    }\n",
       "</style>\n",
       "<table border=\"1\" class=\"dataframe\">\n",
       "  <thead>\n",
       "    <tr style=\"text-align: right;\">\n",
       "      <th></th>\n",
       "      <th>productid</th>\n",
       "      <th>brand</th>\n",
       "      <th>category</th>\n",
       "      <th>subcategory</th>\n",
       "      <th>name</th>\n",
       "    </tr>\n",
       "  </thead>\n",
       "  <tbody>\n",
       "    <tr>\n",
       "      <th>5092</th>\n",
       "      <td>None</td>\n",
       "      <td>None</td>\n",
       "      <td>None</td>\n",
       "      <td>None</td>\n",
       "      <td>None</td>\n",
       "    </tr>\n",
       "  </tbody>\n",
       "</table>\n",
       "</div>"
      ],
      "text/plain": [
       "     productid brand category subcategory  name\n",
       "5092      None  None     None        None  None"
      ]
     },
     "execution_count": 20,
     "metadata": {},
     "output_type": "execute_result"
    }
   ],
   "source": [
    "meta.loc[(meta['productid'].isnull())]"
   ]
  },
  {
   "cell_type": "code",
   "execution_count": 21,
   "metadata": {},
   "outputs": [],
   "source": [
    "meta.drop(meta.index[(meta['productid'].isnull())], inplace=True)\n",
    "meta.reset_index(drop=True, inplace=True)"
   ]
  },
  {
   "cell_type": "code",
   "execution_count": 22,
   "metadata": {
    "scrolled": true
   },
   "outputs": [
    {
     "name": "stdout",
     "output_type": "stream",
     "text": [
      "productid: 0\n",
      "brand: 458\n",
      "category: 0\n",
      "subcategory: 0\n",
      "name: 0\n"
     ]
    }
   ],
   "source": [
    "col_null_count(meta)"
   ]
  },
  {
   "cell_type": "markdown",
   "metadata": {},
   "source": [
    "### Processing Text  Features\n",
    "\n",
    "To process the text in both **category** and **subcategory** it is a good idea to list all unique values since there aren't many. There seem to be a pattern in the text, either a comma or a \"ve\" could exist between two words.\n"
   ]
  },
  {
   "cell_type": "code",
   "execution_count": 23,
   "metadata": {},
   "outputs": [
    {
     "data": {
      "text/plain": [
       "array(['Kişisel Bakım', 'Pet Shop', 'Temel Gıda', 'Et, Balık, Şarküteri',\n",
       "       'Kahvaltılık ve Süt', 'Su', 'Fırın', 'Meyve ve Sebze',\n",
       "       'Oyuncak ve Kırtasiye', 'Ev Bakım ve Temizlik', 'Atıştırmalık',\n",
       "       'Tatlı', 'Bebek', 'Ev Yaşam ve Bahçe', 'Sağlık ve Kozmetik',\n",
       "       'Pratik Yemekler', 'Organik ve Diyet', 'İçecekler', 'Dondurma',\n",
       "       'Spor, Outdoor ve Oto'], dtype=object)"
      ]
     },
     "execution_count": 23,
     "metadata": {},
     "output_type": "execute_result"
    }
   ],
   "source": [
    "meta['category'].unique()"
   ]
  },
  {
   "cell_type": "code",
   "execution_count": 24,
   "metadata": {
    "scrolled": true
   },
   "outputs": [
    {
     "data": {
      "text/plain": [
       "array(['Saç Bakımı', 'Kedi', 'Bakliyat, Pirinç, Makarna', 'Şarküteri',\n",
       "       'Peynir', 'Yoğurt', 'Su', 'Tatlı ve Tuzlu Kurabiyeler', 'Meyve',\n",
       "       'Ekmekler', 'Gazete ve Dergi', 'Mutfak Ve Banyo Ürünleri',\n",
       "       'Çikolata, Gofret ve Barlar', 'Tatlı Malzemeleri',\n",
       "       'Oda Kokusu ve Koku Gidericiler', 'Devam Sütleri ve Ek Gıdalar',\n",
       "       'Oyuncak', 'Yapıştırıcı ve Etiketler', 'Haşere Öldürücüler',\n",
       "       'Duş Jelleri ve Sabunlar', 'Ağız Bakım', 'Pil', 'Hijyenik Pedler',\n",
       "       'Konserve', 'Hazır Yemekler', 'Kalemler', 'Tıraş Ürünleri',\n",
       "       'El, Yüz ve Vücut Bakımı', 'Diyet Ürünler',\n",
       "       'Dondurulmuş Sebze, Meyve', 'Çay', 'Gazsız İçecekler',\n",
       "       'Bisküvi ve Kekler', 'Sıvı Yağ', 'Süt', 'Bebek Bakım ve Sağlığı',\n",
       "       'Ev Temizlik Ürünleri', 'Meyve Suyu', 'Kahve',\n",
       "       'Balık ve Deniz Mahsülleri', 'Sebze', 'Kümes Hayvanları',\n",
       "       'Islak Mendil', 'Krem Çikolata ve Ezme', 'Bebek Bezi',\n",
       "       'Baharat, Harç ve Bulyon', 'Parfüm, Deodorant',\n",
       "       'Yufka, Taze Hamur ve Mayalar', 'Kağıt Ürünler', 'Makyaj Ürünleri',\n",
       "       'Kap Dondurma', 'Mutfak Ürünleri', 'Oto Ürünleri', 'Cips',\n",
       "       'Salça ve Hazır Soslar', 'Bulaşık Yıkama', 'Un ve İrmik',\n",
       "       'Hazır Çorbalar', 'Un, Tuz, Şeker', 'Enerji İçeceği',\n",
       "       'Dondurulmuş Hamur İşleri', 'Unlu Mamüller', 'Biberon Mamaları',\n",
       "       'Yüzey Temizleyiciler', 'Sakız, Şekerleme',\n",
       "       'Dondurulmuş Et, Su Ürünleri', 'Yumurta',\n",
       "       'Organik Bakliyat, Makarna', 'Kuruyemiş', 'Gazlı İçecekler',\n",
       "       'Maden Suları', 'Köpek', 'Kuş', 'Cinsel Sağlık Ürünleri',\n",
       "       'Ev Gereçleri', 'Reçel', 'Çamaşır Yıkama', 'Masaüstü Gereçleri',\n",
       "       'Tahin, Pekmez ve Helva', 'Zeytin', 'Kamp Malzemeleri',\n",
       "       'Havuz ve Su Sporları', 'Kitap, Sözlük', 'Kırmızı Et',\n",
       "       'Hırdavat, Kablo ve Aksesuarlar', 'Boyalar', 'Çanta ve Valizler',\n",
       "       'Sağlık ve İlk Yardım Ürünleri', 'Ağda ve Tüy Dökücüler',\n",
       "       'Tereyağ ve Margarin', 'Güneş Bakımı', 'Kondisyon Aletleri',\n",
       "       'Bebek İçecekleri', 'İçecekler', 'Turşu ve Salamura',\n",
       "       'Ampul ve Aydınlatma', 'Pastalar', 'Pastane Tatlıları',\n",
       "       'Kağıt Ürünler ve Pamuk', 'Müsli ve Kahvaltılık Gevrek',\n",
       "       'Glutensiz ve Tuzsuz Ürünler', 'Çanta ve Mataralar',\n",
       "       'Bahçe ve Mangal', 'Defterler', 'Krema ve Kaymak',\n",
       "       'Organik Yağ, Sos ve Baharatlar', 'Spor Topları', 'Kuru Meyve',\n",
       "       'Hamurlu ve Şerbetli Tatlılar', 'Organik Kahvaltılıklar',\n",
       "       'Kemirgenler', 'Bal', 'Tek Dondurma',\n",
       "       'Organik Kuruyemiş, Kuru Meyve', 'Bebek Bisküvileri',\n",
       "       'Dosyalama ve Arşivleme', 'Ramazan Kolisi', 'Dart',\n",
       "       'Sporcu İçecekleri', 'Mezeler', 'Balık', 'Ayakkabı Bakımı',\n",
       "       'Alt Açma Seti', 'Okul Öncesi', 'Çoklu Paketler',\n",
       "       'Kullan At Ürünler', 'Tenis, Masa Tenisi ve Squash', 'Poşet',\n",
       "       'Bisiklet ve Aksesuarları', 'Tatlandırıcılar', 'Kaykay ve Paten',\n",
       "       'Ev Tekstili'], dtype=object)"
      ]
     },
     "execution_count": 24,
     "metadata": {},
     "output_type": "execute_result"
    }
   ],
   "source": [
    "meta['subcategory'].unique()"
   ]
  },
  {
   "cell_type": "markdown",
   "metadata": {},
   "source": [
    "To process the text in **name** column, other things should be taken into consideration.\n",
    "- There maybe punctuation marks other than **commas**.\n",
    "- There are stopwords other than **ve** such as **içinde**.\n",
    "- It is clear that there are some **numbers** in the text, so, those should be handled as well.\n",
    "- There are some **units** in the text. "
   ]
  },
  {
   "cell_type": "code",
   "execution_count": 25,
   "metadata": {
    "scrolled": true
   },
   "outputs": [
    {
     "data": {
      "text/plain": [
       "0            Palette Kalıcı Doğal Renkler 10-4 PAPATYA\n",
       "1    Best Pet Jöle İçinde Parça Etli Somonlu Konser...\n",
       "2         Türkiye Tarım Kredi Koop.Yeşil Mercimek 1 kg\n",
       "3                    Namet Fıstıklı Macar Salam 100 gr\n",
       "4                        Muratbey Burgu Peyniri 250 gr\n",
       "Name: name, dtype: object"
      ]
     },
     "execution_count": 25,
     "metadata": {},
     "output_type": "execute_result"
    }
   ],
   "source": [
    "meta['name'].head()"
   ]
  },
  {
   "cell_type": "markdown",
   "metadata": {},
   "source": [
    "The following function handles the concerns stated above:"
   ]
  },
  {
   "cell_type": "code",
   "execution_count": 26,
   "metadata": {},
   "outputs": [],
   "source": [
    "# turkish stop words list \n",
    "with open('stop-words_tr.txt') as f:\n",
    "    stop_words = f.read().splitlines()"
   ]
  },
  {
   "cell_type": "code",
   "execution_count": 27,
   "metadata": {},
   "outputs": [],
   "source": [
    "def has_numbers(word):\n",
    "    \"\"\"return true if the input string has a number\"\"\"\n",
    "    return any(char.isdigit() for char in word)\n",
    "\n",
    "def is_unit(word):\n",
    "    \"\"\" Assumes a unit is 2 chars or less. A better approach would be using a list of units\"\"\"\n",
    "    return len(word) <= 2\n",
    "\n",
    "def separate_words(sent):\n",
    "    \"\"\" split words of a given sentence \"\"\"\n",
    "    \n",
    "    sent = sent.translate(str.maketrans('', '', string.punctuation)) # remove punctuation\n",
    "    splitted = sent.lower().split(' ')\n",
    "    return [word.strip() for word in splitted if word not in stop_words and not has_numbers(word)\n",
    "            and not is_unit(word)]"
   ]
  },
  {
   "cell_type": "code",
   "execution_count": 28,
   "metadata": {},
   "outputs": [],
   "source": [
    "meta_processed = meta.copy()"
   ]
  },
  {
   "cell_type": "code",
   "execution_count": 29,
   "metadata": {},
   "outputs": [],
   "source": [
    "meta_processed['category'] = meta_processed['category'].apply(lambda sent: separate_words(sent))"
   ]
  },
  {
   "cell_type": "code",
   "execution_count": 30,
   "metadata": {},
   "outputs": [],
   "source": [
    "meta_processed['subcategory'] = meta_processed['subcategory'].apply(lambda sent: separate_words(sent))"
   ]
  },
  {
   "cell_type": "code",
   "execution_count": 31,
   "metadata": {},
   "outputs": [],
   "source": [
    "meta_processed['name'] = meta_processed['name'].apply(lambda sent: separate_words(sent))"
   ]
  },
  {
   "cell_type": "markdown",
   "metadata": {},
   "source": [
    "This is what they look like now:"
   ]
  },
  {
   "cell_type": "code",
   "execution_count": 32,
   "metadata": {},
   "outputs": [
    {
     "data": {
      "text/html": [
       "<div>\n",
       "<style scoped>\n",
       "    .dataframe tbody tr th:only-of-type {\n",
       "        vertical-align: middle;\n",
       "    }\n",
       "\n",
       "    .dataframe tbody tr th {\n",
       "        vertical-align: top;\n",
       "    }\n",
       "\n",
       "    .dataframe thead th {\n",
       "        text-align: right;\n",
       "    }\n",
       "</style>\n",
       "<table border=\"1\" class=\"dataframe\">\n",
       "  <thead>\n",
       "    <tr style=\"text-align: right;\">\n",
       "      <th></th>\n",
       "      <th>productid</th>\n",
       "      <th>brand</th>\n",
       "      <th>category</th>\n",
       "      <th>subcategory</th>\n",
       "      <th>name</th>\n",
       "    </tr>\n",
       "  </thead>\n",
       "  <tbody>\n",
       "    <tr>\n",
       "      <th>0</th>\n",
       "      <td>HBV00000AX6LR</td>\n",
       "      <td>Palette</td>\n",
       "      <td>[kişisel, bakım]</td>\n",
       "      <td>[saç, bakımı]</td>\n",
       "      <td>[palette, kalıcı, doğal, renkler, papatya]</td>\n",
       "    </tr>\n",
       "    <tr>\n",
       "      <th>1</th>\n",
       "      <td>HBV00000BSAQG</td>\n",
       "      <td>Best</td>\n",
       "      <td>[pet, shop]</td>\n",
       "      <td>[kedi]</td>\n",
       "      <td>[best, pet, jöle, i̇çinde, parça, etli, somonl...</td>\n",
       "    </tr>\n",
       "    <tr>\n",
       "      <th>2</th>\n",
       "      <td>HBV00000JUHBA</td>\n",
       "      <td>Tarım Kredi</td>\n",
       "      <td>[temel, gıda]</td>\n",
       "      <td>[bakliyat, pirinç, makarna]</td>\n",
       "      <td>[türkiye, tarım, kredi, koopyeşil, mercimek]</td>\n",
       "    </tr>\n",
       "    <tr>\n",
       "      <th>3</th>\n",
       "      <td>HBV00000NE0QI</td>\n",
       "      <td>Namet</td>\n",
       "      <td>[balık, şarküteri]</td>\n",
       "      <td>[şarküteri]</td>\n",
       "      <td>[namet, fıstıklı, macar, salam]</td>\n",
       "    </tr>\n",
       "    <tr>\n",
       "      <th>4</th>\n",
       "      <td>HBV00000NE0UQ</td>\n",
       "      <td>Muratbey</td>\n",
       "      <td>[kahvaltılık, süt]</td>\n",
       "      <td>[peynir]</td>\n",
       "      <td>[muratbey, burgu, peyniri]</td>\n",
       "    </tr>\n",
       "  </tbody>\n",
       "</table>\n",
       "</div>"
      ],
      "text/plain": [
       "       productid        brand            category  \\\n",
       "0  HBV00000AX6LR      Palette    [kişisel, bakım]   \n",
       "1  HBV00000BSAQG         Best         [pet, shop]   \n",
       "2  HBV00000JUHBA  Tarım Kredi       [temel, gıda]   \n",
       "3  HBV00000NE0QI        Namet  [balık, şarküteri]   \n",
       "4  HBV00000NE0UQ     Muratbey  [kahvaltılık, süt]   \n",
       "\n",
       "                   subcategory  \\\n",
       "0                [saç, bakımı]   \n",
       "1                       [kedi]   \n",
       "2  [bakliyat, pirinç, makarna]   \n",
       "3                  [şarküteri]   \n",
       "4                     [peynir]   \n",
       "\n",
       "                                                name  \n",
       "0         [palette, kalıcı, doğal, renkler, papatya]  \n",
       "1  [best, pet, jöle, i̇çinde, parça, etli, somonl...  \n",
       "2       [türkiye, tarım, kredi, koopyeşil, mercimek]  \n",
       "3                    [namet, fıstıklı, macar, salam]  \n",
       "4                         [muratbey, burgu, peyniri]  "
      ]
     },
     "execution_count": 32,
     "metadata": {},
     "output_type": "execute_result"
    }
   ],
   "source": [
    "meta_processed.head()"
   ]
  },
  {
   "cell_type": "markdown",
   "metadata": {},
   "source": [
    "### Converting Data Types\n",
    "\n",
    "Here, only the price column's type is changed to float."
   ]
  },
  {
   "cell_type": "code",
   "execution_count": 33,
   "metadata": {},
   "outputs": [],
   "source": [
    "events['price'] = events['price'].astype(float)"
   ]
  },
  {
   "cell_type": "markdown",
   "metadata": {},
   "source": [
    "## Approach 1:  Content-Based Filtring\n",
    "\n",
    "Here, the aim is to build a recommendation system which recommends products related/similar to the ones in the cart. Here, the focus will be on the meta dataset since it contains the features of the products.\n",
    "\n",
    "\n",
    "This could be done in many ways. A couple of methods are implemented in the following cells."
   ]
  },
  {
   "cell_type": "markdown",
   "metadata": {},
   "source": [
    "### Method 1: CountVectorizer\n",
    "\n",
    "\n",
    "For this method, all text fetures are combined together. Then, each set of words is converted to a vector representation on the basis of the frequency (count) of each word that occurs in the entire text."
   ]
  },
  {
   "cell_type": "code",
   "execution_count": 34,
   "metadata": {},
   "outputs": [],
   "source": [
    "meta_m1 = meta_processed.copy()"
   ]
  },
  {
   "cell_type": "code",
   "execution_count": 35,
   "metadata": {},
   "outputs": [],
   "source": [
    "# combining the text features to form a bag of words\n",
    "meta_m1['Bow'] = (meta_m1['category'] + meta_m1['subcategory'] + meta_m1['name']).apply(lambda ls: ' '.join(ls))\n",
    "meta_m1 = meta_m1[['productid', 'Bow']]"
   ]
  },
  {
   "cell_type": "code",
   "execution_count": 36,
   "metadata": {
    "scrolled": true
   },
   "outputs": [
    {
     "data": {
      "text/html": [
       "<div>\n",
       "<style scoped>\n",
       "    .dataframe tbody tr th:only-of-type {\n",
       "        vertical-align: middle;\n",
       "    }\n",
       "\n",
       "    .dataframe tbody tr th {\n",
       "        vertical-align: top;\n",
       "    }\n",
       "\n",
       "    .dataframe thead th {\n",
       "        text-align: right;\n",
       "    }\n",
       "</style>\n",
       "<table border=\"1\" class=\"dataframe\">\n",
       "  <thead>\n",
       "    <tr style=\"text-align: right;\">\n",
       "      <th></th>\n",
       "      <th>productid</th>\n",
       "      <th>Bow</th>\n",
       "    </tr>\n",
       "  </thead>\n",
       "  <tbody>\n",
       "    <tr>\n",
       "      <th>0</th>\n",
       "      <td>HBV00000AX6LR</td>\n",
       "      <td>kişisel bakım saç bakımı palette kalıcı doğal ...</td>\n",
       "    </tr>\n",
       "    <tr>\n",
       "      <th>1</th>\n",
       "      <td>HBV00000BSAQG</td>\n",
       "      <td>pet shop kedi best pet jöle i̇çinde parça etli...</td>\n",
       "    </tr>\n",
       "    <tr>\n",
       "      <th>2</th>\n",
       "      <td>HBV00000JUHBA</td>\n",
       "      <td>temel gıda bakliyat pirinç makarna türkiye tar...</td>\n",
       "    </tr>\n",
       "    <tr>\n",
       "      <th>3</th>\n",
       "      <td>HBV00000NE0QI</td>\n",
       "      <td>balık şarküteri şarküteri namet fıstıklı macar...</td>\n",
       "    </tr>\n",
       "    <tr>\n",
       "      <th>4</th>\n",
       "      <td>HBV00000NE0UQ</td>\n",
       "      <td>kahvaltılık süt peynir muratbey burgu peyniri</td>\n",
       "    </tr>\n",
       "  </tbody>\n",
       "</table>\n",
       "</div>"
      ],
      "text/plain": [
       "       productid                                                Bow\n",
       "0  HBV00000AX6LR  kişisel bakım saç bakımı palette kalıcı doğal ...\n",
       "1  HBV00000BSAQG  pet shop kedi best pet jöle i̇çinde parça etli...\n",
       "2  HBV00000JUHBA  temel gıda bakliyat pirinç makarna türkiye tar...\n",
       "3  HBV00000NE0QI  balık şarküteri şarküteri namet fıstıklı macar...\n",
       "4  HBV00000NE0UQ      kahvaltılık süt peynir muratbey burgu peyniri"
      ]
     },
     "execution_count": 36,
     "metadata": {},
     "output_type": "execute_result"
    }
   ],
   "source": [
    "meta_m1.head()"
   ]
  },
  {
   "cell_type": "markdown",
   "metadata": {},
   "source": [
    "Transforming the text into vectors. "
   ]
  },
  {
   "cell_type": "code",
   "execution_count": 37,
   "metadata": {
    "scrolled": false
   },
   "outputs": [],
   "source": [
    "count = CountVectorizer()\n",
    "count_matrix = count.fit_transform(meta_m1['Bow'])"
   ]
  },
  {
   "cell_type": "markdown",
   "metadata": {},
   "source": [
    "Calculating the similarities between all products using the cosine similarity method. "
   ]
  },
  {
   "cell_type": "code",
   "execution_count": 38,
   "metadata": {},
   "outputs": [
    {
     "data": {
      "text/plain": [
       "(10235, 10235)"
      ]
     },
     "execution_count": 38,
     "metadata": {},
     "output_type": "execute_result"
    }
   ],
   "source": [
    "sim_matrix = cosine_similarity(count_matrix, count_matrix)\n",
    "sim_matrix.shape"
   ]
  },
  {
   "cell_type": "code",
   "execution_count": 39,
   "metadata": {},
   "outputs": [],
   "source": [
    "# converting the matrix to a dataframe\n",
    "m1_sim_mat = pd.DataFrame(sim_matrix)\n",
    "m1_sim_mat.columns = meta['productid'].values\n",
    "m1_sim_mat.insert(0, 'productid', meta['productid'])"
   ]
  },
  {
   "cell_type": "code",
   "execution_count": 40,
   "metadata": {
    "scrolled": false
   },
   "outputs": [
    {
     "data": {
      "text/html": [
       "<div>\n",
       "<style scoped>\n",
       "    .dataframe tbody tr th:only-of-type {\n",
       "        vertical-align: middle;\n",
       "    }\n",
       "\n",
       "    .dataframe tbody tr th {\n",
       "        vertical-align: top;\n",
       "    }\n",
       "\n",
       "    .dataframe thead th {\n",
       "        text-align: right;\n",
       "    }\n",
       "</style>\n",
       "<table border=\"1\" class=\"dataframe\">\n",
       "  <thead>\n",
       "    <tr style=\"text-align: right;\">\n",
       "      <th></th>\n",
       "      <th>productid</th>\n",
       "      <th>HBV00000AX6LR</th>\n",
       "      <th>HBV00000BSAQG</th>\n",
       "      <th>HBV00000JUHBA</th>\n",
       "      <th>HBV00000NE0QI</th>\n",
       "      <th>HBV00000NE0UQ</th>\n",
       "      <th>HBV00000NE1NR</th>\n",
       "      <th>HBV00000NH2LJ</th>\n",
       "      <th>HBV00000NVZ7D</th>\n",
       "      <th>HBV00000NVZCG</th>\n",
       "      <th>...</th>\n",
       "      <th>ZYBICN9286868</th>\n",
       "      <th>ZYECZACI9300200</th>\n",
       "      <th>ZYECZACI9470301</th>\n",
       "      <th>ZYFSAN6010014</th>\n",
       "      <th>ZYHPETICEDIY014</th>\n",
       "      <th>ZYHPREISBBKL008</th>\n",
       "      <th>ZYNES11470137</th>\n",
       "      <th>ZYPAREX1909309</th>\n",
       "      <th>ZYPAREX2107986</th>\n",
       "      <th>ZYPYON6690</th>\n",
       "    </tr>\n",
       "  </thead>\n",
       "  <tbody>\n",
       "    <tr>\n",
       "      <th>0</th>\n",
       "      <td>HBV00000AX6LR</td>\n",
       "      <td>1.0</td>\n",
       "      <td>0.0</td>\n",
       "      <td>0.0</td>\n",
       "      <td>0.0</td>\n",
       "      <td>0.0</td>\n",
       "      <td>0.000000</td>\n",
       "      <td>0.166667</td>\n",
       "      <td>0.0</td>\n",
       "      <td>0.0</td>\n",
       "      <td>...</td>\n",
       "      <td>0.0</td>\n",
       "      <td>0.100504</td>\n",
       "      <td>0.125988</td>\n",
       "      <td>0.000000</td>\n",
       "      <td>0.0</td>\n",
       "      <td>0.000000</td>\n",
       "      <td>0.0</td>\n",
       "      <td>0.100504</td>\n",
       "      <td>0.096225</td>\n",
       "      <td>0.096225</td>\n",
       "    </tr>\n",
       "    <tr>\n",
       "      <th>1</th>\n",
       "      <td>HBV00000BSAQG</td>\n",
       "      <td>0.0</td>\n",
       "      <td>1.0</td>\n",
       "      <td>0.0</td>\n",
       "      <td>0.0</td>\n",
       "      <td>0.0</td>\n",
       "      <td>0.000000</td>\n",
       "      <td>0.000000</td>\n",
       "      <td>0.0</td>\n",
       "      <td>0.0</td>\n",
       "      <td>...</td>\n",
       "      <td>0.0</td>\n",
       "      <td>0.000000</td>\n",
       "      <td>0.000000</td>\n",
       "      <td>0.000000</td>\n",
       "      <td>0.0</td>\n",
       "      <td>0.000000</td>\n",
       "      <td>0.0</td>\n",
       "      <td>0.000000</td>\n",
       "      <td>0.000000</td>\n",
       "      <td>0.000000</td>\n",
       "    </tr>\n",
       "    <tr>\n",
       "      <th>2</th>\n",
       "      <td>HBV00000JUHBA</td>\n",
       "      <td>0.0</td>\n",
       "      <td>0.0</td>\n",
       "      <td>1.0</td>\n",
       "      <td>0.0</td>\n",
       "      <td>0.0</td>\n",
       "      <td>0.000000</td>\n",
       "      <td>0.000000</td>\n",
       "      <td>0.0</td>\n",
       "      <td>0.0</td>\n",
       "      <td>...</td>\n",
       "      <td>0.0</td>\n",
       "      <td>0.000000</td>\n",
       "      <td>0.000000</td>\n",
       "      <td>0.239046</td>\n",
       "      <td>0.0</td>\n",
       "      <td>0.572078</td>\n",
       "      <td>0.0</td>\n",
       "      <td>0.000000</td>\n",
       "      <td>0.000000</td>\n",
       "      <td>0.000000</td>\n",
       "    </tr>\n",
       "    <tr>\n",
       "      <th>3</th>\n",
       "      <td>HBV00000NE0QI</td>\n",
       "      <td>0.0</td>\n",
       "      <td>0.0</td>\n",
       "      <td>0.0</td>\n",
       "      <td>1.0</td>\n",
       "      <td>0.0</td>\n",
       "      <td>0.000000</td>\n",
       "      <td>0.000000</td>\n",
       "      <td>0.0</td>\n",
       "      <td>0.0</td>\n",
       "      <td>...</td>\n",
       "      <td>0.0</td>\n",
       "      <td>0.000000</td>\n",
       "      <td>0.000000</td>\n",
       "      <td>0.000000</td>\n",
       "      <td>0.0</td>\n",
       "      <td>0.000000</td>\n",
       "      <td>0.0</td>\n",
       "      <td>0.000000</td>\n",
       "      <td>0.000000</td>\n",
       "      <td>0.000000</td>\n",
       "    </tr>\n",
       "    <tr>\n",
       "      <th>4</th>\n",
       "      <td>HBV00000NE0UQ</td>\n",
       "      <td>0.0</td>\n",
       "      <td>0.0</td>\n",
       "      <td>0.0</td>\n",
       "      <td>0.0</td>\n",
       "      <td>1.0</td>\n",
       "      <td>0.408248</td>\n",
       "      <td>0.000000</td>\n",
       "      <td>0.0</td>\n",
       "      <td>0.0</td>\n",
       "      <td>...</td>\n",
       "      <td>0.0</td>\n",
       "      <td>0.000000</td>\n",
       "      <td>0.000000</td>\n",
       "      <td>0.000000</td>\n",
       "      <td>0.0</td>\n",
       "      <td>0.000000</td>\n",
       "      <td>0.0</td>\n",
       "      <td>0.000000</td>\n",
       "      <td>0.000000</td>\n",
       "      <td>0.000000</td>\n",
       "    </tr>\n",
       "  </tbody>\n",
       "</table>\n",
       "<p>5 rows × 10236 columns</p>\n",
       "</div>"
      ],
      "text/plain": [
       "       productid  HBV00000AX6LR  HBV00000BSAQG  HBV00000JUHBA  HBV00000NE0QI  \\\n",
       "0  HBV00000AX6LR            1.0            0.0            0.0            0.0   \n",
       "1  HBV00000BSAQG            0.0            1.0            0.0            0.0   \n",
       "2  HBV00000JUHBA            0.0            0.0            1.0            0.0   \n",
       "3  HBV00000NE0QI            0.0            0.0            0.0            1.0   \n",
       "4  HBV00000NE0UQ            0.0            0.0            0.0            0.0   \n",
       "\n",
       "   HBV00000NE0UQ  HBV00000NE1NR  HBV00000NH2LJ  HBV00000NVZ7D  HBV00000NVZCG  \\\n",
       "0            0.0       0.000000       0.166667            0.0            0.0   \n",
       "1            0.0       0.000000       0.000000            0.0            0.0   \n",
       "2            0.0       0.000000       0.000000            0.0            0.0   \n",
       "3            0.0       0.000000       0.000000            0.0            0.0   \n",
       "4            1.0       0.408248       0.000000            0.0            0.0   \n",
       "\n",
       "   ...  ZYBICN9286868  ZYECZACI9300200  ZYECZACI9470301  ZYFSAN6010014  \\\n",
       "0  ...            0.0         0.100504         0.125988       0.000000   \n",
       "1  ...            0.0         0.000000         0.000000       0.000000   \n",
       "2  ...            0.0         0.000000         0.000000       0.239046   \n",
       "3  ...            0.0         0.000000         0.000000       0.000000   \n",
       "4  ...            0.0         0.000000         0.000000       0.000000   \n",
       "\n",
       "   ZYHPETICEDIY014  ZYHPREISBBKL008  ZYNES11470137  ZYPAREX1909309  \\\n",
       "0              0.0         0.000000            0.0        0.100504   \n",
       "1              0.0         0.000000            0.0        0.000000   \n",
       "2              0.0         0.572078            0.0        0.000000   \n",
       "3              0.0         0.000000            0.0        0.000000   \n",
       "4              0.0         0.000000            0.0        0.000000   \n",
       "\n",
       "   ZYPAREX2107986  ZYPYON6690  \n",
       "0        0.096225    0.096225  \n",
       "1        0.000000    0.000000  \n",
       "2        0.000000    0.000000  \n",
       "3        0.000000    0.000000  \n",
       "4        0.000000    0.000000  \n",
       "\n",
       "[5 rows x 10236 columns]"
      ]
     },
     "execution_count": 40,
     "metadata": {},
     "output_type": "execute_result"
    }
   ],
   "source": [
    "m1_sim_mat.head()"
   ]
  },
  {
   "cell_type": "markdown",
   "metadata": {},
   "source": [
    "Here, we pickle the dataframe shown above to use it on a server."
   ]
  },
  {
   "cell_type": "code",
   "execution_count": 41,
   "metadata": {},
   "outputs": [],
   "source": [
    "m1_sim_mat.to_pickle(\"pickled_dfs/cb_m1.pkl\")"
   ]
  },
  {
   "cell_type": "markdown",
   "metadata": {},
   "source": [
    "The similarity matrix is ready and for any new product the top n items to be recommended can be determined. In the follwoing cells two examples test the method. "
   ]
  },
  {
   "cell_type": "code",
   "execution_count": 42,
   "metadata": {},
   "outputs": [],
   "source": [
    "def m1_recommend_products(product_id, n_products):\n",
    "    \"\"\" Returns similar products ids to the product id given along with the similarities \"\"\"\n",
    "    product_profile = m1_sim_mat[m1_sim_mat['productid'] == product_id]\n",
    "    product_profile_dict = product_profile.to_dict()\n",
    "    del product_profile_dict['productid'] # deleting the product_id (1st column)\n",
    "    productid_sim_tuples = [(key, sub_dict[list(sub_dict)[0]]) for key, sub_dict in product_profile_dict.items()]\n",
    "    top_n_products = sorted(productid_sim_tuples, key=lambda productid_sim_tuples:productid_sim_tuples[1],\n",
    "                  reverse=True)[1:n_products+1]\n",
    "    product_ids, similarities = list(zip(*top_n_products))\n",
    "    return product_ids, similarities"
   ]
  },
  {
   "cell_type": "markdown",
   "metadata": {},
   "source": [
    "#### Example: 1"
   ]
  },
  {
   "cell_type": "code",
   "execution_count": 43,
   "metadata": {},
   "outputs": [],
   "source": [
    "product_ids, similarities = m1_recommend_products('HBV00000NVZCG', 10)"
   ]
  },
  {
   "cell_type": "markdown",
   "metadata": {},
   "source": [
    "##### Input Product"
   ]
  },
  {
   "cell_type": "code",
   "execution_count": 44,
   "metadata": {},
   "outputs": [
    {
     "data": {
      "text/html": [
       "<div>\n",
       "<style scoped>\n",
       "    .dataframe tbody tr th:only-of-type {\n",
       "        vertical-align: middle;\n",
       "    }\n",
       "\n",
       "    .dataframe tbody tr th {\n",
       "        vertical-align: top;\n",
       "    }\n",
       "\n",
       "    .dataframe thead th {\n",
       "        text-align: right;\n",
       "    }\n",
       "</style>\n",
       "<table border=\"1\" class=\"dataframe\">\n",
       "  <thead>\n",
       "    <tr style=\"text-align: right;\">\n",
       "      <th></th>\n",
       "      <th>productid</th>\n",
       "      <th>brand</th>\n",
       "      <th>category</th>\n",
       "      <th>subcategory</th>\n",
       "      <th>name</th>\n",
       "    </tr>\n",
       "  </thead>\n",
       "  <tbody>\n",
       "    <tr>\n",
       "      <th>8</th>\n",
       "      <td>HBV00000NVZCG</td>\n",
       "      <td>None</td>\n",
       "      <td>Meyve ve Sebze</td>\n",
       "      <td>Meyve</td>\n",
       "      <td>Granny Smith Elma 500 gr</td>\n",
       "    </tr>\n",
       "  </tbody>\n",
       "</table>\n",
       "</div>"
      ],
      "text/plain": [
       "       productid brand        category subcategory                      name\n",
       "8  HBV00000NVZCG  None  Meyve ve Sebze       Meyve  Granny Smith Elma 500 gr"
      ]
     },
     "execution_count": 44,
     "metadata": {},
     "output_type": "execute_result"
    }
   ],
   "source": [
    "meta[meta['productid'] == 'HBV00000NVZCG']"
   ]
  },
  {
   "cell_type": "markdown",
   "metadata": {},
   "source": [
    "##### Recommended Products\n",
    "\n",
    "The method seems to be working perfectly but it has its drawbacks. Notice for example the first recommended product. Although it is related, since it is a fruit, still other products should have had higher similarities. This is because the method is simple and depends only on the frequencies of the terms. "
   ]
  },
  {
   "cell_type": "code",
   "execution_count": 45,
   "metadata": {},
   "outputs": [
    {
     "data": {
      "text/html": [
       "<div>\n",
       "<style scoped>\n",
       "    .dataframe tbody tr th:only-of-type {\n",
       "        vertical-align: middle;\n",
       "    }\n",
       "\n",
       "    .dataframe tbody tr th {\n",
       "        vertical-align: top;\n",
       "    }\n",
       "\n",
       "    .dataframe thead th {\n",
       "        text-align: right;\n",
       "    }\n",
       "</style>\n",
       "<table border=\"1\" class=\"dataframe\">\n",
       "  <thead>\n",
       "    <tr style=\"text-align: right;\">\n",
       "      <th></th>\n",
       "      <th>productid</th>\n",
       "      <th>brand</th>\n",
       "      <th>category</th>\n",
       "      <th>subcategory</th>\n",
       "      <th>name</th>\n",
       "      <th>similarity</th>\n",
       "    </tr>\n",
       "  </thead>\n",
       "  <tbody>\n",
       "    <tr>\n",
       "      <th>0</th>\n",
       "      <td>HBV00000PUQE0</td>\n",
       "      <td>None</td>\n",
       "      <td>Meyve ve Sebze</td>\n",
       "      <td>Meyve</td>\n",
       "      <td>Mandalina kg 500 gr</td>\n",
       "      <td>0.942809</td>\n",
       "    </tr>\n",
       "    <tr>\n",
       "      <th>1</th>\n",
       "      <td>HBV00000O2SGQ</td>\n",
       "      <td>None</td>\n",
       "      <td>Meyve ve Sebze</td>\n",
       "      <td>Meyve</td>\n",
       "      <td>Elma Starking 500 gr</td>\n",
       "      <td>0.875000</td>\n",
       "    </tr>\n",
       "    <tr>\n",
       "      <th>2</th>\n",
       "      <td>HBV00000NVZCK</td>\n",
       "      <td>None</td>\n",
       "      <td>Meyve ve Sebze</td>\n",
       "      <td>Meyve</td>\n",
       "      <td>Elma Granny Ekonomik 500 gr</td>\n",
       "      <td>0.801784</td>\n",
       "    </tr>\n",
       "    <tr>\n",
       "      <th>3</th>\n",
       "      <td>HBV00000O2SHB</td>\n",
       "      <td>None</td>\n",
       "      <td>Meyve ve Sebze</td>\n",
       "      <td>Meyve</td>\n",
       "      <td>Elma Golden Organik 750 gr</td>\n",
       "      <td>0.801784</td>\n",
       "    </tr>\n",
       "    <tr>\n",
       "      <th>4</th>\n",
       "      <td>HBV00000NVZCE</td>\n",
       "      <td>None</td>\n",
       "      <td>Meyve ve Sebze</td>\n",
       "      <td>Meyve</td>\n",
       "      <td>Elma Starking 500 gr</td>\n",
       "      <td>0.801784</td>\n",
       "    </tr>\n",
       "    <tr>\n",
       "      <th>5</th>\n",
       "      <td>HBV00000O2SHN</td>\n",
       "      <td>None</td>\n",
       "      <td>Meyve ve Sebze</td>\n",
       "      <td>Meyve</td>\n",
       "      <td>Elma Amasya Paket 500 gr</td>\n",
       "      <td>0.801784</td>\n",
       "    </tr>\n",
       "    <tr>\n",
       "      <th>6</th>\n",
       "      <td>HBV00000O2SH1</td>\n",
       "      <td>None</td>\n",
       "      <td>Meyve ve Sebze</td>\n",
       "      <td>Meyve</td>\n",
       "      <td>Elma Fujı Paket 500 gr</td>\n",
       "      <td>0.750000</td>\n",
       "    </tr>\n",
       "    <tr>\n",
       "      <th>7</th>\n",
       "      <td>HBV00000O2SJF</td>\n",
       "      <td>None</td>\n",
       "      <td>Meyve ve Sebze</td>\n",
       "      <td>Meyve</td>\n",
       "      <td>Elma Granny Smith Organik 750 gr</td>\n",
       "      <td>0.750000</td>\n",
       "    </tr>\n",
       "    <tr>\n",
       "      <th>8</th>\n",
       "      <td>HBV00000O2SHK</td>\n",
       "      <td>None</td>\n",
       "      <td>Meyve ve Sebze</td>\n",
       "      <td>Meyve</td>\n",
       "      <td>Amasya Elma 500 gr</td>\n",
       "      <td>0.750000</td>\n",
       "    </tr>\n",
       "    <tr>\n",
       "      <th>9</th>\n",
       "      <td>HBV00000NVZCM</td>\n",
       "      <td>None</td>\n",
       "      <td>Meyve ve Sebze</td>\n",
       "      <td>Meyve</td>\n",
       "      <td>Golden Elma 500 gr</td>\n",
       "      <td>0.721688</td>\n",
       "    </tr>\n",
       "  </tbody>\n",
       "</table>\n",
       "</div>"
      ],
      "text/plain": [
       "       productid brand        category subcategory  \\\n",
       "0  HBV00000PUQE0  None  Meyve ve Sebze       Meyve   \n",
       "1  HBV00000O2SGQ  None  Meyve ve Sebze       Meyve   \n",
       "2  HBV00000NVZCK  None  Meyve ve Sebze       Meyve   \n",
       "3  HBV00000O2SHB  None  Meyve ve Sebze       Meyve   \n",
       "4  HBV00000NVZCE  None  Meyve ve Sebze       Meyve   \n",
       "5  HBV00000O2SHN  None  Meyve ve Sebze       Meyve   \n",
       "6  HBV00000O2SH1  None  Meyve ve Sebze       Meyve   \n",
       "7  HBV00000O2SJF  None  Meyve ve Sebze       Meyve   \n",
       "8  HBV00000O2SHK  None  Meyve ve Sebze       Meyve   \n",
       "9  HBV00000NVZCM  None  Meyve ve Sebze       Meyve   \n",
       "\n",
       "                               name  similarity  \n",
       "0               Mandalina kg 500 gr    0.942809  \n",
       "1              Elma Starking 500 gr    0.875000  \n",
       "2       Elma Granny Ekonomik 500 gr    0.801784  \n",
       "3        Elma Golden Organik 750 gr    0.801784  \n",
       "4              Elma Starking 500 gr    0.801784  \n",
       "5          Elma Amasya Paket 500 gr    0.801784  \n",
       "6            Elma Fujı Paket 500 gr    0.750000  \n",
       "7  Elma Granny Smith Organik 750 gr    0.750000  \n",
       "8                Amasya Elma 500 gr    0.750000  \n",
       "9                Golden Elma 500 gr    0.721688  "
      ]
     },
     "execution_count": 45,
     "metadata": {},
     "output_type": "execute_result"
    }
   ],
   "source": [
    "output_products = meta[meta['productid'].isin(product_ids)].copy()\n",
    "output_products.reset_index(drop=True, inplace=True)\n",
    "output_products['similarity'] = similarities \n",
    "output_products"
   ]
  },
  {
   "cell_type": "markdown",
   "metadata": {},
   "source": [
    "#### Example: 2"
   ]
  },
  {
   "cell_type": "code",
   "execution_count": 46,
   "metadata": {},
   "outputs": [],
   "source": [
    "product_ids, similarities = m1_recommend_products('ZYBICN9286868', 10)"
   ]
  },
  {
   "cell_type": "markdown",
   "metadata": {},
   "source": [
    "##### Input Product"
   ]
  },
  {
   "cell_type": "code",
   "execution_count": 47,
   "metadata": {},
   "outputs": [
    {
     "data": {
      "text/html": [
       "<div>\n",
       "<style scoped>\n",
       "    .dataframe tbody tr th:only-of-type {\n",
       "        vertical-align: middle;\n",
       "    }\n",
       "\n",
       "    .dataframe tbody tr th {\n",
       "        vertical-align: top;\n",
       "    }\n",
       "\n",
       "    .dataframe thead th {\n",
       "        text-align: right;\n",
       "    }\n",
       "</style>\n",
       "<table border=\"1\" class=\"dataframe\">\n",
       "  <thead>\n",
       "    <tr style=\"text-align: right;\">\n",
       "      <th></th>\n",
       "      <th>productid</th>\n",
       "      <th>brand</th>\n",
       "      <th>category</th>\n",
       "      <th>subcategory</th>\n",
       "      <th>name</th>\n",
       "    </tr>\n",
       "  </thead>\n",
       "  <tbody>\n",
       "    <tr>\n",
       "      <th>10225</th>\n",
       "      <td>ZYBICN9286868</td>\n",
       "      <td>Lipton</td>\n",
       "      <td>İçecekler</td>\n",
       "      <td>Gazsız İçecekler</td>\n",
       "      <td>LİPTON IİCE TEA ŞEFTALI AROMALI TNK 500 ML</td>\n",
       "    </tr>\n",
       "  </tbody>\n",
       "</table>\n",
       "</div>"
      ],
      "text/plain": [
       "           productid   brand   category       subcategory  \\\n",
       "10225  ZYBICN9286868  Lipton  İçecekler  Gazsız İçecekler   \n",
       "\n",
       "                                             name  \n",
       "10225  LİPTON IİCE TEA ŞEFTALI AROMALI TNK 500 ML  "
      ]
     },
     "execution_count": 47,
     "metadata": {},
     "output_type": "execute_result"
    }
   ],
   "source": [
    "meta[meta['productid'] == 'ZYBICN9286868']"
   ]
  },
  {
   "cell_type": "markdown",
   "metadata": {},
   "source": [
    "##### Recommended Products\n",
    "\n",
    "For this example, the results seem to be well related to the input product. "
   ]
  },
  {
   "cell_type": "code",
   "execution_count": 48,
   "metadata": {
    "scrolled": false
   },
   "outputs": [
    {
     "data": {
      "text/html": [
       "<div>\n",
       "<style scoped>\n",
       "    .dataframe tbody tr th:only-of-type {\n",
       "        vertical-align: middle;\n",
       "    }\n",
       "\n",
       "    .dataframe tbody tr th {\n",
       "        vertical-align: top;\n",
       "    }\n",
       "\n",
       "    .dataframe thead th {\n",
       "        text-align: right;\n",
       "    }\n",
       "</style>\n",
       "<table border=\"1\" class=\"dataframe\">\n",
       "  <thead>\n",
       "    <tr style=\"text-align: right;\">\n",
       "      <th></th>\n",
       "      <th>productid</th>\n",
       "      <th>brand</th>\n",
       "      <th>category</th>\n",
       "      <th>subcategory</th>\n",
       "      <th>name</th>\n",
       "      <th>similarity</th>\n",
       "    </tr>\n",
       "  </thead>\n",
       "  <tbody>\n",
       "    <tr>\n",
       "      <th>0</th>\n",
       "      <td>ZYHPPEPSIGZS019</td>\n",
       "      <td>LIPTON ICE TEA</td>\n",
       "      <td>İçecekler</td>\n",
       "      <td>Gazsız İçecekler</td>\n",
       "      <td>Lipton Ice Tea Şeftali 1,5 L</td>\n",
       "      <td>0.889499</td>\n",
       "    </tr>\n",
       "    <tr>\n",
       "      <th>1</th>\n",
       "      <td>ZYHPCOCACGZS010</td>\n",
       "      <td>Fuse Tea</td>\n",
       "      <td>İçecekler</td>\n",
       "      <td>Gazsız İçecekler</td>\n",
       "      <td>Fuse Tea Şeftali Pet 1 Lt</td>\n",
       "      <td>0.859338</td>\n",
       "    </tr>\n",
       "    <tr>\n",
       "      <th>2</th>\n",
       "      <td>ZYBICN9287068</td>\n",
       "      <td>Lipton</td>\n",
       "      <td>İçecekler</td>\n",
       "      <td>Gazsız İçecekler</td>\n",
       "      <td>LİPTON İCE TEA DOUBLE ŞEFTALİ &amp; KAYISI AROMALI...</td>\n",
       "      <td>0.787726</td>\n",
       "    </tr>\n",
       "    <tr>\n",
       "      <th>3</th>\n",
       "      <td>HBV00000NFHOB</td>\n",
       "      <td>Lipton</td>\n",
       "      <td>İçecekler</td>\n",
       "      <td>Gazsız İçecekler</td>\n",
       "      <td>Lipton Ice Tea Şeftali 4 x 250 ml</td>\n",
       "      <td>0.739600</td>\n",
       "    </tr>\n",
       "    <tr>\n",
       "      <th>4</th>\n",
       "      <td>ZYBICN9286873</td>\n",
       "      <td>Lipton</td>\n",
       "      <td>İçecekler</td>\n",
       "      <td>Gazsız İçecekler</td>\n",
       "      <td>Lipton İce Tea Şeftali-Kayısı 1.5 Lt</td>\n",
       "      <td>0.701646</td>\n",
       "    </tr>\n",
       "    <tr>\n",
       "      <th>5</th>\n",
       "      <td>HBV00000PQKHY</td>\n",
       "      <td>Lipton</td>\n",
       "      <td>İçecekler</td>\n",
       "      <td>Gazsız İçecekler</td>\n",
       "      <td>Lipton İce Tea Şeftali Aromalı 6*330 Ml</td>\n",
       "      <td>0.701646</td>\n",
       "    </tr>\n",
       "    <tr>\n",
       "      <th>6</th>\n",
       "      <td>ZYBICN9286869</td>\n",
       "      <td>Lipton</td>\n",
       "      <td>İçecekler</td>\n",
       "      <td>Gazsız İçecekler</td>\n",
       "      <td>LİPTON İCE TEA LİMON AROMALI TNK 500 ML</td>\n",
       "      <td>0.647150</td>\n",
       "    </tr>\n",
       "    <tr>\n",
       "      <th>7</th>\n",
       "      <td>ZYBICN9286870</td>\n",
       "      <td>Lipton</td>\n",
       "      <td>İçecekler</td>\n",
       "      <td>Gazsız İçecekler</td>\n",
       "      <td>LİPTON İCE TEA DOUBLE ÇİLEK &amp; KAVUN AROMALI TN...</td>\n",
       "      <td>0.647150</td>\n",
       "    </tr>\n",
       "    <tr>\n",
       "      <th>8</th>\n",
       "      <td>ZYBICN9310832</td>\n",
       "      <td>Lipton</td>\n",
       "      <td>İçecekler</td>\n",
       "      <td>Gazsız İçecekler</td>\n",
       "      <td>Lipton İce Tea Şeftali 2 Lt</td>\n",
       "      <td>0.647150</td>\n",
       "    </tr>\n",
       "    <tr>\n",
       "      <th>9</th>\n",
       "      <td>HBV00000PQKHW</td>\n",
       "      <td>Lipton</td>\n",
       "      <td>İçecekler</td>\n",
       "      <td>Gazsız İçecekler</td>\n",
       "      <td>Lipton İce Tea Şeftali Aromalı 500 Ml</td>\n",
       "      <td>0.647150</td>\n",
       "    </tr>\n",
       "  </tbody>\n",
       "</table>\n",
       "</div>"
      ],
      "text/plain": [
       "         productid           brand   category       subcategory  \\\n",
       "0  ZYHPPEPSIGZS019  LIPTON ICE TEA  İçecekler  Gazsız İçecekler   \n",
       "1  ZYHPCOCACGZS010        Fuse Tea  İçecekler  Gazsız İçecekler   \n",
       "2    ZYBICN9287068          Lipton  İçecekler  Gazsız İçecekler   \n",
       "3    HBV00000NFHOB          Lipton  İçecekler  Gazsız İçecekler   \n",
       "4    ZYBICN9286873          Lipton  İçecekler  Gazsız İçecekler   \n",
       "5    HBV00000PQKHY          Lipton  İçecekler  Gazsız İçecekler   \n",
       "6    ZYBICN9286869          Lipton  İçecekler  Gazsız İçecekler   \n",
       "7    ZYBICN9286870          Lipton  İçecekler  Gazsız İçecekler   \n",
       "8    ZYBICN9310832          Lipton  İçecekler  Gazsız İçecekler   \n",
       "9    HBV00000PQKHW          Lipton  İçecekler  Gazsız İçecekler   \n",
       "\n",
       "                                                name  similarity  \n",
       "0                       Lipton Ice Tea Şeftali 1,5 L    0.889499  \n",
       "1                          Fuse Tea Şeftali Pet 1 Lt    0.859338  \n",
       "2  LİPTON İCE TEA DOUBLE ŞEFTALİ & KAYISI AROMALI...    0.787726  \n",
       "3                  Lipton Ice Tea Şeftali 4 x 250 ml    0.739600  \n",
       "4               Lipton İce Tea Şeftali-Kayısı 1.5 Lt    0.701646  \n",
       "5            Lipton İce Tea Şeftali Aromalı 6*330 Ml    0.701646  \n",
       "6            LİPTON İCE TEA LİMON AROMALI TNK 500 ML    0.647150  \n",
       "7  LİPTON İCE TEA DOUBLE ÇİLEK & KAVUN AROMALI TN...    0.647150  \n",
       "8                        Lipton İce Tea Şeftali 2 Lt    0.647150  \n",
       "9              Lipton İce Tea Şeftali Aromalı 500 Ml    0.647150  "
      ]
     },
     "execution_count": 48,
     "metadata": {},
     "output_type": "execute_result"
    }
   ],
   "source": [
    "output_products = meta[meta['productid'].isin(product_ids)].copy()\n",
    "output_products.reset_index(drop=True, inplace=True)\n",
    "output_products['similarity'] = similarities \n",
    "output_products"
   ]
  },
  {
   "cell_type": "markdown",
   "metadata": {},
   "source": [
    "### Method 2: Doc2Vec\n",
    "\n",
    "\n",
    "Another method that could be used to help in finding similar products to the products in cart involves Doc2vec. \n",
    "\n",
    "To find the similarity between the combined senteces (category + subcategory + name), Doc2Vec is used here to assign vectors to documents where each product's features represent a document. \n",
    "\n",
    "After assigninig each product a vector, cosine similarity could be used to find the similary between every two documents/products."
   ]
  },
  {
   "cell_type": "code",
   "execution_count": 49,
   "metadata": {},
   "outputs": [],
   "source": [
    "meta_m2 = meta_processed.copy()"
   ]
  },
  {
   "cell_type": "markdown",
   "metadata": {},
   "source": [
    "Here, the features are combined in one feature. "
   ]
  },
  {
   "cell_type": "code",
   "execution_count": 50,
   "metadata": {},
   "outputs": [],
   "source": [
    "meta_m2['list_of_words'] = meta_m2['category'] + meta_m2['subcategory'] + meta_m2['name']"
   ]
  },
  {
   "cell_type": "markdown",
   "metadata": {},
   "source": [
    "Now, list_of_words contains the combined lists of words."
   ]
  },
  {
   "cell_type": "code",
   "execution_count": 51,
   "metadata": {
    "scrolled": true
   },
   "outputs": [
    {
     "data": {
      "text/html": [
       "<div>\n",
       "<style scoped>\n",
       "    .dataframe tbody tr th:only-of-type {\n",
       "        vertical-align: middle;\n",
       "    }\n",
       "\n",
       "    .dataframe tbody tr th {\n",
       "        vertical-align: top;\n",
       "    }\n",
       "\n",
       "    .dataframe thead th {\n",
       "        text-align: right;\n",
       "    }\n",
       "</style>\n",
       "<table border=\"1\" class=\"dataframe\">\n",
       "  <thead>\n",
       "    <tr style=\"text-align: right;\">\n",
       "      <th></th>\n",
       "      <th>productid</th>\n",
       "      <th>brand</th>\n",
       "      <th>category</th>\n",
       "      <th>subcategory</th>\n",
       "      <th>name</th>\n",
       "      <th>list_of_words</th>\n",
       "    </tr>\n",
       "  </thead>\n",
       "  <tbody>\n",
       "    <tr>\n",
       "      <th>0</th>\n",
       "      <td>HBV00000AX6LR</td>\n",
       "      <td>Palette</td>\n",
       "      <td>[kişisel, bakım]</td>\n",
       "      <td>[saç, bakımı]</td>\n",
       "      <td>[palette, kalıcı, doğal, renkler, papatya]</td>\n",
       "      <td>[kişisel, bakım, saç, bakımı, palette, kalıcı,...</td>\n",
       "    </tr>\n",
       "    <tr>\n",
       "      <th>1</th>\n",
       "      <td>HBV00000BSAQG</td>\n",
       "      <td>Best</td>\n",
       "      <td>[pet, shop]</td>\n",
       "      <td>[kedi]</td>\n",
       "      <td>[best, pet, jöle, i̇çinde, parça, etli, somonl...</td>\n",
       "      <td>[pet, shop, kedi, best, pet, jöle, i̇çinde, pa...</td>\n",
       "    </tr>\n",
       "    <tr>\n",
       "      <th>2</th>\n",
       "      <td>HBV00000JUHBA</td>\n",
       "      <td>Tarım Kredi</td>\n",
       "      <td>[temel, gıda]</td>\n",
       "      <td>[bakliyat, pirinç, makarna]</td>\n",
       "      <td>[türkiye, tarım, kredi, koopyeşil, mercimek]</td>\n",
       "      <td>[temel, gıda, bakliyat, pirinç, makarna, türki...</td>\n",
       "    </tr>\n",
       "    <tr>\n",
       "      <th>3</th>\n",
       "      <td>HBV00000NE0QI</td>\n",
       "      <td>Namet</td>\n",
       "      <td>[balık, şarküteri]</td>\n",
       "      <td>[şarküteri]</td>\n",
       "      <td>[namet, fıstıklı, macar, salam]</td>\n",
       "      <td>[balık, şarküteri, şarküteri, namet, fıstıklı,...</td>\n",
       "    </tr>\n",
       "    <tr>\n",
       "      <th>4</th>\n",
       "      <td>HBV00000NE0UQ</td>\n",
       "      <td>Muratbey</td>\n",
       "      <td>[kahvaltılık, süt]</td>\n",
       "      <td>[peynir]</td>\n",
       "      <td>[muratbey, burgu, peyniri]</td>\n",
       "      <td>[kahvaltılık, süt, peynir, muratbey, burgu, pe...</td>\n",
       "    </tr>\n",
       "  </tbody>\n",
       "</table>\n",
       "</div>"
      ],
      "text/plain": [
       "       productid        brand            category  \\\n",
       "0  HBV00000AX6LR      Palette    [kişisel, bakım]   \n",
       "1  HBV00000BSAQG         Best         [pet, shop]   \n",
       "2  HBV00000JUHBA  Tarım Kredi       [temel, gıda]   \n",
       "3  HBV00000NE0QI        Namet  [balık, şarküteri]   \n",
       "4  HBV00000NE0UQ     Muratbey  [kahvaltılık, süt]   \n",
       "\n",
       "                   subcategory  \\\n",
       "0                [saç, bakımı]   \n",
       "1                       [kedi]   \n",
       "2  [bakliyat, pirinç, makarna]   \n",
       "3                  [şarküteri]   \n",
       "4                     [peynir]   \n",
       "\n",
       "                                                name  \\\n",
       "0         [palette, kalıcı, doğal, renkler, papatya]   \n",
       "1  [best, pet, jöle, i̇çinde, parça, etli, somonl...   \n",
       "2       [türkiye, tarım, kredi, koopyeşil, mercimek]   \n",
       "3                    [namet, fıstıklı, macar, salam]   \n",
       "4                         [muratbey, burgu, peyniri]   \n",
       "\n",
       "                                       list_of_words  \n",
       "0  [kişisel, bakım, saç, bakımı, palette, kalıcı,...  \n",
       "1  [pet, shop, kedi, best, pet, jöle, i̇çinde, pa...  \n",
       "2  [temel, gıda, bakliyat, pirinç, makarna, türki...  \n",
       "3  [balık, şarküteri, şarküteri, namet, fıstıklı,...  \n",
       "4  [kahvaltılık, süt, peynir, muratbey, burgu, pe...  "
      ]
     },
     "execution_count": 51,
     "metadata": {},
     "output_type": "execute_result"
    }
   ],
   "source": [
    "meta_m2.head()"
   ]
  },
  {
   "cell_type": "markdown",
   "metadata": {},
   "source": [
    "List of words is used here first in tagging the documents, which is giving tags/identifiers to the vectors to be obtained. \n",
    "\n",
    "Then, Doc2Vec is train on the tagged documents with some specified hyperparameters which could tuned.  "
   ]
  },
  {
   "cell_type": "code",
   "execution_count": 52,
   "metadata": {},
   "outputs": [],
   "source": [
    "list_of_words = meta_m2['list_of_words']\n",
    "\n",
    "documents = [TaggedDocument(doc, [i]) for i, doc in enumerate(list_of_words)]"
   ]
  },
  {
   "cell_type": "code",
   "execution_count": 53,
   "metadata": {},
   "outputs": [],
   "source": [
    "vec_size = 200\n",
    "model = Doc2Vec(documents, vector_size=vec_size, workers=4)"
   ]
  },
  {
   "cell_type": "code",
   "execution_count": 54,
   "metadata": {},
   "outputs": [],
   "source": [
    "def m2_recommend_products(n_products):\n",
    "    \"\"\" Returns similar products ids to the product id given along with the similarities \"\"\"\n",
    "\n",
    "    product_sim = []\n",
    "    for index, row in meta_m2[['productid', 'list_of_words']].iterrows():\n",
    "        vec = model.infer_vector(row['list_of_words'])\n",
    "        sim = cosine_similarity(rand_prod1_vec.reshape(1,vec_size), vec.reshape(1, vec_size))\n",
    "        product_sim.append((row['productid'], sim[0][0]))\n",
    "\n",
    "    top_n_products = sorted(product_sim, key=lambda product_sim:product_sim[1], reverse=True)[1:n_products+1]\n",
    "    product_ids, similarities = list(zip(*top_n_products))\n",
    "    return product_ids, similarities"
   ]
  },
  {
   "cell_type": "markdown",
   "metadata": {},
   "source": [
    "#### Example: 1"
   ]
  },
  {
   "cell_type": "markdown",
   "metadata": {},
   "source": [
    "##### Input Product"
   ]
  },
  {
   "cell_type": "code",
   "execution_count": 55,
   "metadata": {},
   "outputs": [
    {
     "data": {
      "text/html": [
       "<div>\n",
       "<style scoped>\n",
       "    .dataframe tbody tr th:only-of-type {\n",
       "        vertical-align: middle;\n",
       "    }\n",
       "\n",
       "    .dataframe tbody tr th {\n",
       "        vertical-align: top;\n",
       "    }\n",
       "\n",
       "    .dataframe thead th {\n",
       "        text-align: right;\n",
       "    }\n",
       "</style>\n",
       "<table border=\"1\" class=\"dataframe\">\n",
       "  <thead>\n",
       "    <tr style=\"text-align: right;\">\n",
       "      <th></th>\n",
       "      <th>productid</th>\n",
       "      <th>brand</th>\n",
       "      <th>category</th>\n",
       "      <th>subcategory</th>\n",
       "      <th>name</th>\n",
       "    </tr>\n",
       "  </thead>\n",
       "  <tbody>\n",
       "    <tr>\n",
       "      <th>2454</th>\n",
       "      <td>PTINQUIK-078</td>\n",
       "      <td>Quik</td>\n",
       "      <td>[pet, shop]</td>\n",
       "      <td>[kuş]</td>\n",
       "      <td>[quik, kumlu, tünek]</td>\n",
       "    </tr>\n",
       "  </tbody>\n",
       "</table>\n",
       "</div>"
      ],
      "text/plain": [
       "         productid brand     category subcategory                  name\n",
       "2454  PTINQUIK-078  Quik  [pet, shop]       [kuş]  [quik, kumlu, tünek]"
      ]
     },
     "execution_count": 55,
     "metadata": {},
     "output_type": "execute_result"
    }
   ],
   "source": [
    "rand_prod1 = meta_processed.sample(n=1, random_state = 100)\n",
    "rand_prod1"
   ]
  },
  {
   "cell_type": "markdown",
   "metadata": {},
   "source": [
    "Here, a vector is infered for this randomly chosen prodcut. "
   ]
  },
  {
   "cell_type": "code",
   "execution_count": 56,
   "metadata": {},
   "outputs": [],
   "source": [
    "rand_prod1 = rand_prod1['category'] + rand_prod1['subcategory'] + rand_prod1['name']\n",
    "rand_prod1_vec = model.infer_vector(rand_prod1.values[0])"
   ]
  },
  {
   "cell_type": "markdown",
   "metadata": {},
   "source": [
    "##### Recommended Products\n",
    "\n",
    "For this example, the recommended products seem to be well related to the input product. "
   ]
  },
  {
   "cell_type": "code",
   "execution_count": 57,
   "metadata": {},
   "outputs": [],
   "source": [
    "product_ids, similarities = m2_recommend_products(10)"
   ]
  },
  {
   "cell_type": "code",
   "execution_count": 58,
   "metadata": {},
   "outputs": [
    {
     "data": {
      "text/html": [
       "<div>\n",
       "<style scoped>\n",
       "    .dataframe tbody tr th:only-of-type {\n",
       "        vertical-align: middle;\n",
       "    }\n",
       "\n",
       "    .dataframe tbody tr th {\n",
       "        vertical-align: top;\n",
       "    }\n",
       "\n",
       "    .dataframe thead th {\n",
       "        text-align: right;\n",
       "    }\n",
       "</style>\n",
       "<table border=\"1\" class=\"dataframe\">\n",
       "  <thead>\n",
       "    <tr style=\"text-align: right;\">\n",
       "      <th></th>\n",
       "      <th>productid</th>\n",
       "      <th>brand</th>\n",
       "      <th>category</th>\n",
       "      <th>subcategory</th>\n",
       "      <th>name</th>\n",
       "      <th>similarity</th>\n",
       "    </tr>\n",
       "  </thead>\n",
       "  <tbody>\n",
       "    <tr>\n",
       "      <th>0</th>\n",
       "      <td>HBV00000PQJQW</td>\n",
       "      <td>Jungle</td>\n",
       "      <td>Pet Shop</td>\n",
       "      <td>Kedi</td>\n",
       "      <td>Jungle Somonlu Kısır Kedi Maması 500 g</td>\n",
       "      <td>0.927541</td>\n",
       "    </tr>\n",
       "    <tr>\n",
       "      <th>1</th>\n",
       "      <td>HBV00000HWAX6</td>\n",
       "      <td>Bestpet</td>\n",
       "      <td>Pet Shop</td>\n",
       "      <td>Kedi</td>\n",
       "      <td>Bestpet Somonlu Kısırlaştırılmış Kedi Maması 1 Kg</td>\n",
       "      <td>0.922346</td>\n",
       "    </tr>\n",
       "    <tr>\n",
       "      <th>2</th>\n",
       "      <td>HBV00000NVZ6O</td>\n",
       "      <td>Quik</td>\n",
       "      <td>Pet Shop</td>\n",
       "      <td>Kuş</td>\n",
       "      <td>Quik Kuş Tüneği 4'lü</td>\n",
       "      <td>0.921395</td>\n",
       "    </tr>\n",
       "    <tr>\n",
       "      <th>3</th>\n",
       "      <td>HBV00000PQJ0L</td>\n",
       "      <td>Felix</td>\n",
       "      <td>Pet Shop</td>\n",
       "      <td>Kedi</td>\n",
       "      <td>Felix Balıklı Mama 100 g</td>\n",
       "      <td>0.919299</td>\n",
       "    </tr>\n",
       "    <tr>\n",
       "      <th>4</th>\n",
       "      <td>HBV00000PQJV7</td>\n",
       "      <td>Purina One</td>\n",
       "      <td>Pet Shop</td>\n",
       "      <td>Kedi</td>\n",
       "      <td>Purina One Sterilcat Sığır Etli Kedi Maması 800 g</td>\n",
       "      <td>0.917747</td>\n",
       "    </tr>\n",
       "    <tr>\n",
       "      <th>5</th>\n",
       "      <td>ZYNES12214275</td>\n",
       "      <td>Nesfit</td>\n",
       "      <td>Kahvaltılık ve Süt</td>\n",
       "      <td>Müsli ve Kahvaltılık Gevrek</td>\n",
       "      <td>Nesfit Ballı Bademli 400 gr</td>\n",
       "      <td>0.914566</td>\n",
       "    </tr>\n",
       "    <tr>\n",
       "      <th>6</th>\n",
       "      <td>PTINJNG-011</td>\n",
       "      <td>Jungle</td>\n",
       "      <td>Pet Shop</td>\n",
       "      <td>Kuş</td>\n",
       "      <td>Jungle Papağan Yemi 500 Gr</td>\n",
       "      <td>0.913718</td>\n",
       "    </tr>\n",
       "    <tr>\n",
       "      <th>7</th>\n",
       "      <td>HBV00000NE197</td>\n",
       "      <td>Namet</td>\n",
       "      <td>Et, Balık, Şarküteri</td>\n",
       "      <td>Şarküteri</td>\n",
       "      <td>Namet Hindi Etli Salam 250 gr</td>\n",
       "      <td>0.910658</td>\n",
       "    </tr>\n",
       "    <tr>\n",
       "      <th>8</th>\n",
       "      <td>PTINJNG-012</td>\n",
       "      <td>Jungle</td>\n",
       "      <td>Pet Shop</td>\n",
       "      <td>Kemirgenler</td>\n",
       "      <td>Jungle Tavşan Yemi 500 Gr</td>\n",
       "      <td>0.909935</td>\n",
       "    </tr>\n",
       "    <tr>\n",
       "      <th>9</th>\n",
       "      <td>HBV00000ASP48</td>\n",
       "      <td>Bestpet</td>\n",
       "      <td>Pet Shop</td>\n",
       "      <td>Kedi</td>\n",
       "      <td>Bestpet Mix Karışıklı Etli Yetişkin Kedi Mamas...</td>\n",
       "      <td>0.908937</td>\n",
       "    </tr>\n",
       "  </tbody>\n",
       "</table>\n",
       "</div>"
      ],
      "text/plain": [
       "       productid       brand              category  \\\n",
       "0  HBV00000PQJQW      Jungle              Pet Shop   \n",
       "1  HBV00000HWAX6     Bestpet              Pet Shop   \n",
       "2  HBV00000NVZ6O        Quik              Pet Shop   \n",
       "3  HBV00000PQJ0L       Felix              Pet Shop   \n",
       "4  HBV00000PQJV7  Purina One              Pet Shop   \n",
       "5  ZYNES12214275      Nesfit    Kahvaltılık ve Süt   \n",
       "6    PTINJNG-011      Jungle              Pet Shop   \n",
       "7  HBV00000NE197       Namet  Et, Balık, Şarküteri   \n",
       "8    PTINJNG-012      Jungle              Pet Shop   \n",
       "9  HBV00000ASP48     Bestpet              Pet Shop   \n",
       "\n",
       "                   subcategory  \\\n",
       "0                         Kedi   \n",
       "1                         Kedi   \n",
       "2                          Kuş   \n",
       "3                         Kedi   \n",
       "4                         Kedi   \n",
       "5  Müsli ve Kahvaltılık Gevrek   \n",
       "6                          Kuş   \n",
       "7                    Şarküteri   \n",
       "8                  Kemirgenler   \n",
       "9                         Kedi   \n",
       "\n",
       "                                                name  similarity  \n",
       "0             Jungle Somonlu Kısır Kedi Maması 500 g    0.927541  \n",
       "1  Bestpet Somonlu Kısırlaştırılmış Kedi Maması 1 Kg    0.922346  \n",
       "2                               Quik Kuş Tüneği 4'lü    0.921395  \n",
       "3                           Felix Balıklı Mama 100 g    0.919299  \n",
       "4  Purina One Sterilcat Sığır Etli Kedi Maması 800 g    0.917747  \n",
       "5                        Nesfit Ballı Bademli 400 gr    0.914566  \n",
       "6                         Jungle Papağan Yemi 500 Gr    0.913718  \n",
       "7                      Namet Hindi Etli Salam 250 gr    0.910658  \n",
       "8                          Jungle Tavşan Yemi 500 Gr    0.909935  \n",
       "9  Bestpet Mix Karışıklı Etli Yetişkin Kedi Mamas...    0.908937  "
      ]
     },
     "execution_count": 58,
     "metadata": {},
     "output_type": "execute_result"
    }
   ],
   "source": [
    "output_products = meta[meta['productid'].isin(product_ids)].copy()\n",
    "output_products.reset_index(drop=True, inplace=True)\n",
    "output_products['similarity'] = similarities \n",
    "output_products"
   ]
  },
  {
   "cell_type": "markdown",
   "metadata": {},
   "source": [
    "#### Example: 2"
   ]
  },
  {
   "cell_type": "markdown",
   "metadata": {},
   "source": [
    "##### Input Product"
   ]
  },
  {
   "cell_type": "code",
   "execution_count": 59,
   "metadata": {},
   "outputs": [
    {
     "data": {
      "text/html": [
       "<div>\n",
       "<style scoped>\n",
       "    .dataframe tbody tr th:only-of-type {\n",
       "        vertical-align: middle;\n",
       "    }\n",
       "\n",
       "    .dataframe tbody tr th {\n",
       "        vertical-align: top;\n",
       "    }\n",
       "\n",
       "    .dataframe thead th {\n",
       "        text-align: right;\n",
       "    }\n",
       "</style>\n",
       "<table border=\"1\" class=\"dataframe\">\n",
       "  <thead>\n",
       "    <tr style=\"text-align: right;\">\n",
       "      <th></th>\n",
       "      <th>productid</th>\n",
       "      <th>brand</th>\n",
       "      <th>category</th>\n",
       "      <th>subcategory</th>\n",
       "      <th>name</th>\n",
       "    </tr>\n",
       "  </thead>\n",
       "  <tbody>\n",
       "    <tr>\n",
       "      <th>752</th>\n",
       "      <td>HBV00000NG8KC</td>\n",
       "      <td>Universal</td>\n",
       "      <td>[spor, outdoor, oto]</td>\n",
       "      <td>[spor, topları]</td>\n",
       "      <td>[universal, voleybol]</td>\n",
       "    </tr>\n",
       "  </tbody>\n",
       "</table>\n",
       "</div>"
      ],
      "text/plain": [
       "         productid      brand              category      subcategory  \\\n",
       "752  HBV00000NG8KC  Universal  [spor, outdoor, oto]  [spor, topları]   \n",
       "\n",
       "                      name  \n",
       "752  [universal, voleybol]  "
      ]
     },
     "execution_count": 59,
     "metadata": {},
     "output_type": "execute_result"
    }
   ],
   "source": [
    "rand_prod1 = meta_processed.sample(n=1, random_state = 55)\n",
    "rand_prod1"
   ]
  },
  {
   "cell_type": "code",
   "execution_count": 60,
   "metadata": {},
   "outputs": [],
   "source": [
    "rand_prod1 = rand_prod1['category'] + rand_prod1['subcategory'] + rand_prod1['name']\n",
    "rand_prod1_vec = model.infer_vector(rand_prod1.values[0])"
   ]
  },
  {
   "cell_type": "markdown",
   "metadata": {},
   "source": [
    "##### Recommended Products\n",
    "\n",
    "For this example, the results are very interesting. The second recommended product, for example, does not relate with the input product directly at all. Further analysis may be conducted here to understand why such results are obtained. Also, it is good to keep in mind that Doc2Vec does not work very well on small datasets. The published paper itself uses tens-of-thouthands to millions of text. Therefore, certainly the results would become more meaningful as the dataset gets bigger. Finally, the hyperparameters of the model may be tuned and the results are compared to get more reliable results. "
   ]
  },
  {
   "cell_type": "code",
   "execution_count": 61,
   "metadata": {},
   "outputs": [],
   "source": [
    "product_ids, similarities = m2_recommend_products(10)"
   ]
  },
  {
   "cell_type": "code",
   "execution_count": 62,
   "metadata": {},
   "outputs": [
    {
     "data": {
      "text/html": [
       "<div>\n",
       "<style scoped>\n",
       "    .dataframe tbody tr th:only-of-type {\n",
       "        vertical-align: middle;\n",
       "    }\n",
       "\n",
       "    .dataframe tbody tr th {\n",
       "        vertical-align: top;\n",
       "    }\n",
       "\n",
       "    .dataframe thead th {\n",
       "        text-align: right;\n",
       "    }\n",
       "</style>\n",
       "<table border=\"1\" class=\"dataframe\">\n",
       "  <thead>\n",
       "    <tr style=\"text-align: right;\">\n",
       "      <th></th>\n",
       "      <th>productid</th>\n",
       "      <th>brand</th>\n",
       "      <th>category</th>\n",
       "      <th>subcategory</th>\n",
       "      <th>name</th>\n",
       "      <th>similarity</th>\n",
       "    </tr>\n",
       "  </thead>\n",
       "  <tbody>\n",
       "    <tr>\n",
       "      <th>0</th>\n",
       "      <td>HBV00000PQM69</td>\n",
       "      <td>Yurt</td>\n",
       "      <td>Pratik Yemekler</td>\n",
       "      <td>Hazır Yemekler</td>\n",
       "      <td>Yurt Haşlanmış Barbunya 800 g</td>\n",
       "      <td>0.936752</td>\n",
       "    </tr>\n",
       "    <tr>\n",
       "      <th>1</th>\n",
       "      <td>HBV00000U2B2S</td>\n",
       "      <td>Ersan</td>\n",
       "      <td>Et, Balık, Şarküteri</td>\n",
       "      <td>Balık ve Deniz Mahsülleri</td>\n",
       "      <td>Erşan Et Dana 400 gr Sosis</td>\n",
       "      <td>0.928542</td>\n",
       "    </tr>\n",
       "    <tr>\n",
       "      <th>2</th>\n",
       "      <td>HBV00000NG8KC</td>\n",
       "      <td>Universal</td>\n",
       "      <td>Spor, Outdoor ve Oto</td>\n",
       "      <td>Spor Topları</td>\n",
       "      <td>Universal CV302 N5 Voleybol Topu</td>\n",
       "      <td>0.925511</td>\n",
       "    </tr>\n",
       "    <tr>\n",
       "      <th>3</th>\n",
       "      <td>HBV00000PVAMC</td>\n",
       "      <td>Ogx</td>\n",
       "      <td>Kişisel Bakım</td>\n",
       "      <td>Saç Bakımı</td>\n",
       "      <td>Ogx Kırılma Karşıtı Keratin Oil Şampuan 385 ml</td>\n",
       "      <td>0.925216</td>\n",
       "    </tr>\n",
       "    <tr>\n",
       "      <th>4</th>\n",
       "      <td>AILEHSBR53378</td>\n",
       "      <td>Nerf</td>\n",
       "      <td>Oyuncak ve Kırtasiye</td>\n",
       "      <td>Oyuncak</td>\n",
       "      <td>Nerf N-Strike Elite Firestrike</td>\n",
       "      <td>0.924199</td>\n",
       "    </tr>\n",
       "    <tr>\n",
       "      <th>5</th>\n",
       "      <td>HBV00000U27CL</td>\n",
       "      <td>Nestle</td>\n",
       "      <td>Kahvaltılık ve Süt</td>\n",
       "      <td>Müsli ve Kahvaltılık Gevrek</td>\n",
       "      <td>Nestle Nesquik Gevrek 225 Gr</td>\n",
       "      <td>0.923787</td>\n",
       "    </tr>\n",
       "    <tr>\n",
       "      <th>6</th>\n",
       "      <td>ZYULKERSSU004</td>\n",
       "      <td>Saka</td>\n",
       "      <td>Su</td>\n",
       "      <td>Su</td>\n",
       "      <td>Saka Su 6x500 ml</td>\n",
       "      <td>0.922939</td>\n",
       "    </tr>\n",
       "    <tr>\n",
       "      <th>7</th>\n",
       "      <td>OFISFAB2500</td>\n",
       "      <td>Faber-Castell</td>\n",
       "      <td>Oyuncak ve Kırtasiye</td>\n",
       "      <td>Kalemler</td>\n",
       "      <td>Faber-Castell Goldfaber Dereceli Kurşun Kalem HB</td>\n",
       "      <td>0.922829</td>\n",
       "    </tr>\n",
       "    <tr>\n",
       "      <th>8</th>\n",
       "      <td>HBV00000O2SC1</td>\n",
       "      <td>Aytaç</td>\n",
       "      <td>Et, Balık, Şarküteri</td>\n",
       "      <td>Şarküteri</td>\n",
       "      <td>Aytaç Piliç Salam 600 gr</td>\n",
       "      <td>0.922063</td>\n",
       "    </tr>\n",
       "    <tr>\n",
       "      <th>9</th>\n",
       "      <td>HBV00000QX25B</td>\n",
       "      <td>Yurt</td>\n",
       "      <td>Pratik Yemekler</td>\n",
       "      <td>Hazır Yemekler</td>\n",
       "      <td>Yurt Fasulye Pilaki 400 gr</td>\n",
       "      <td>0.921431</td>\n",
       "    </tr>\n",
       "  </tbody>\n",
       "</table>\n",
       "</div>"
      ],
      "text/plain": [
       "       productid          brand              category  \\\n",
       "0  HBV00000PQM69           Yurt       Pratik Yemekler   \n",
       "1  HBV00000U2B2S          Ersan  Et, Balık, Şarküteri   \n",
       "2  HBV00000NG8KC      Universal  Spor, Outdoor ve Oto   \n",
       "3  HBV00000PVAMC            Ogx         Kişisel Bakım   \n",
       "4  AILEHSBR53378           Nerf  Oyuncak ve Kırtasiye   \n",
       "5  HBV00000U27CL         Nestle    Kahvaltılık ve Süt   \n",
       "6  ZYULKERSSU004           Saka                    Su   \n",
       "7    OFISFAB2500  Faber-Castell  Oyuncak ve Kırtasiye   \n",
       "8  HBV00000O2SC1          Aytaç  Et, Balık, Şarküteri   \n",
       "9  HBV00000QX25B           Yurt       Pratik Yemekler   \n",
       "\n",
       "                   subcategory  \\\n",
       "0               Hazır Yemekler   \n",
       "1    Balık ve Deniz Mahsülleri   \n",
       "2                 Spor Topları   \n",
       "3                   Saç Bakımı   \n",
       "4                      Oyuncak   \n",
       "5  Müsli ve Kahvaltılık Gevrek   \n",
       "6                           Su   \n",
       "7                     Kalemler   \n",
       "8                    Şarküteri   \n",
       "9               Hazır Yemekler   \n",
       "\n",
       "                                               name  similarity  \n",
       "0                     Yurt Haşlanmış Barbunya 800 g    0.936752  \n",
       "1                        Erşan Et Dana 400 gr Sosis    0.928542  \n",
       "2                  Universal CV302 N5 Voleybol Topu    0.925511  \n",
       "3    Ogx Kırılma Karşıtı Keratin Oil Şampuan 385 ml    0.925216  \n",
       "4                    Nerf N-Strike Elite Firestrike    0.924199  \n",
       "5                      Nestle Nesquik Gevrek 225 Gr    0.923787  \n",
       "6                                  Saka Su 6x500 ml    0.922939  \n",
       "7  Faber-Castell Goldfaber Dereceli Kurşun Kalem HB    0.922829  \n",
       "8                          Aytaç Piliç Salam 600 gr    0.922063  \n",
       "9                        Yurt Fasulye Pilaki 400 gr    0.921431  "
      ]
     },
     "execution_count": 62,
     "metadata": {},
     "output_type": "execute_result"
    }
   ],
   "source": [
    "output_products = meta[meta['productid'].isin(product_ids)].copy()\n",
    "output_products.reset_index(drop=True, inplace=True)\n",
    "output_products['similarity'] = similarities \n",
    "output_products"
   ]
  }
 ],
 "metadata": {
  "kernelspec": {
   "display_name": "Python 3",
   "language": "python",
   "name": "python3"
  },
  "language_info": {
   "codemirror_mode": {
    "name": "ipython",
    "version": 3
   },
   "file_extension": ".py",
   "mimetype": "text/x-python",
   "name": "python",
   "nbconvert_exporter": "python",
   "pygments_lexer": "ipython3",
   "version": "3.7.4"
  }
 },
 "nbformat": 4,
 "nbformat_minor": 4
}
